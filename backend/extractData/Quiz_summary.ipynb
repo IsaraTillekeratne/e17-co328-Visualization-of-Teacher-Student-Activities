{
  "nbformat": 4,
  "nbformat_minor": 0,
  "metadata": {
    "colab": {
      "name": "Untitled1.ipynb",
      "provenance": [],
      "collapsed_sections": []
    },
    "kernelspec": {
      "name": "python3",
      "display_name": "Python 3"
    },
    "language_info": {
      "name": "python"
    }
  },
  "cells": [
    {
      "cell_type": "code",
      "execution_count": 1,
      "metadata": {
        "id": "wC_8ToGe1VBV"
      },
      "outputs": [],
      "source": [
        "import pandas as pd"
      ]
    },
    {
      "cell_type": "code",
      "source": [
        "pd.options.mode.chained_assignment = None"
      ],
      "metadata": {
        "id": "s4F_ZHusN0_M"
      },
      "execution_count": 2,
      "outputs": []
    },
    {
      "cell_type": "code",
      "source": [
        "import numpy as np"
      ],
      "metadata": {
        "id": "fCQeqjmd1iRN"
      },
      "execution_count": 3,
      "outputs": []
    },
    {
      "cell_type": "code",
      "source": [
        "from google.colab import drive\n",
        "drive.mount(\"/drive\")"
      ],
      "metadata": {
        "colab": {
          "base_uri": "https://localhost:8080/"
        },
        "id": "XEizG2IylD66",
        "outputId": "4ae7f87d-d9fd-4968-d1f5-f80ce96f2269"
      },
      "execution_count": 4,
      "outputs": [
        {
          "output_type": "stream",
          "name": "stdout",
          "text": [
            "Mounted at /drive\n"
          ]
        }
      ]
    },
    {
      "cell_type": "code",
      "source": [
        "df = pd.read_excel('/drive/My Drive/logs.xlsx')"
      ],
      "metadata": {
        "id": "DvRRu5XTB7ua"
      },
      "execution_count": 5,
      "outputs": []
    },
    {
      "cell_type": "code",
      "source": [
        "def getNoOfLogRecords():\n",
        "\n",
        "  # get number of log records \n",
        "  noOfLogRecords = df.shape[0]\n",
        "\n",
        "  return noOfLogRecords\n",
        "getNoOfLogRecords()"
      ],
      "metadata": {
        "colab": {
          "base_uri": "https://localhost:8080/"
        },
        "id": "WpcM_J96DO5R",
        "outputId": "e7a72213-a144-4e62-c5d0-8c4b727b7018"
      },
      "execution_count": null,
      "outputs": [
        {
          "output_type": "execute_result",
          "data": {
            "text/plain": [
              "455237"
            ]
          },
          "metadata": {},
          "execution_count": 7
        }
      ]
    },
    {
      "cell_type": "code",
      "source": [
        "des = df[df['Description'].notnull()]"
      ],
      "metadata": {
        "id": "F0SIHk8mGYa7"
      },
      "execution_count": null,
      "outputs": []
    },
    {
      "cell_type": "code",
      "source": [
        "def userId(desc):\n",
        "    return desc.split()[4][1:-1]"
      ],
      "metadata": {
        "id": "EqMUgfPIMPLn"
      },
      "execution_count": null,
      "outputs": []
    },
    {
      "cell_type": "code",
      "source": [
        "des['user'] = des['Description'].apply(userId)\n"
      ],
      "metadata": {
        "id": "cTibMZIPMUNf"
      },
      "execution_count": null,
      "outputs": []
    },
    {
      "cell_type": "code",
      "source": [
        "file = df[df['Event context'].notnull()]\n",
        "\n",
        "def materials(file):\n",
        "  if file[0:4] == 'File':\n",
        "    return file\n",
        "\n",
        "#newfile = file['Event context'].apply(materials)\n",
        "i =0\n",
        "arr1 = set()\n",
        "while i<len(file):\n",
        "  newfile = materials(file['Event context'][i])\n",
        "  if newfile != None:\n",
        "    arr1.add(file['Event context'][i])\n",
        "  i = i+1\n",
        "arr1\n",
        "#file.iloc[0]\n"
      ],
      "metadata": {
        "id": "0gquqAkIVi9X",
        "colab": {
          "base_uri": "https://localhost:8080/"
        },
        "outputId": "ab67af4e-a491-4781-fda3-89d3ffe437e5"
      },
      "execution_count": null,
      "outputs": [
        {
          "output_type": "execute_result",
          "data": {
            "text/plain": [
              "{'File: Dataset 1',\n",
              " 'File: Dataset 2',\n",
              " 'File: GP106 - Revision Lab - AB',\n",
              " 'File: GP106 - Revision Lab - CD',\n",
              " 'File: GP106 Project Specification',\n",
              " 'File: Group List for Labs',\n",
              " 'File: Handout 10 Modules',\n",
              " 'File: Handout 11 : Documentation and Testing',\n",
              " 'File: Handout 12: Data Structures and Object Oriented Programming',\n",
              " 'File: Handout 14: Plotting Graphs using Matplotlib',\n",
              " 'File: Handout 1:  Introduction',\n",
              " 'File: Handout 2: Data Representation',\n",
              " 'File: Handout 3: Python Programming',\n",
              " 'File: Handout 5 - Flowcharts',\n",
              " 'File: Handout 6: Flowcharts II',\n",
              " 'File: Handout 7: Control Structures',\n",
              " 'File: Handout 8 - Functions',\n",
              " 'File: Handout 9: File Handling',\n",
              " 'File: Handout13 : Matrix Manipulation',\n",
              " 'File: Handout4 PythonProgramming2',\n",
              " 'File: Lab 01 - Introduction to Python - Lab Sheet/Tutorial',\n",
              " 'File: Lab 01 - Lab Exercise',\n",
              " 'File: Lab 02 - Conditions and Loops',\n",
              " 'File: Lab 03 - Exercises',\n",
              " 'File: Lab 03 - Functions, Modules and I/O - Lab Sheet',\n",
              " 'File: Lab 04 - Data Structures, Modules, Docs and Testing',\n",
              " 'File: Lab 04 - Exercises',\n",
              " 'File: Lab 05 - Exercises',\n",
              " 'File: Lab 05 - Numpy and Matplotlib',\n",
              " 'File: Lab 06 - Exercises',\n",
              " 'File: Lab 06 - Object Oriented Programming',\n",
              " 'File: Lab 07 - Introduction to Micro-Controllers',\n",
              " 'File: Lab 08 - Programming for Engineers',\n",
              " 'File: Whatsapp Links for Lab Groups'}"
            ]
          },
          "metadata": {},
          "execution_count": 10
        }
      ]
    },
    {
      "cell_type": "code",
      "source": [
        "# Event context--> 'Course: (different types)'\n",
        "course = df[df['Event context'].notnull()]\n",
        "\n",
        "def materials1(course):\n",
        "  if course[0:6] == 'Course':\n",
        "    return course\n",
        "\n",
        "#newfile = file['Event context'].apply(materials)\n",
        "i =0\n",
        "arr2 = set()\n",
        "while i<len(course):\n",
        "  newcourse = materials1(course['Event context'][i])\n",
        "  if newcourse != None:\n",
        "    arr2.add(course['Event name'][i])\n",
        "  i = i+1\n",
        "arr2"
      ],
      "metadata": {
        "colab": {
          "base_uri": "https://localhost:8080/"
        },
        "id": "HUbFOXdwIf62",
        "outputId": "46e62812-f69e-4fa6-abf9-d906492c2cd2"
      },
      "execution_count": null,
      "outputs": [
        {
          "output_type": "execute_result",
          "data": {
            "text/plain": [
              "{'Activity report viewed',\n",
              " 'Badge listing viewed',\n",
              " 'Calendar event created',\n",
              " 'Calendar event deleted',\n",
              " 'Calendar event updated',\n",
              " 'Course created',\n",
              " 'Course module instance list viewed',\n",
              " 'Course restored',\n",
              " 'Course searched',\n",
              " 'Course section created',\n",
              " 'Course section deleted',\n",
              " 'Course section updated',\n",
              " 'Course updated',\n",
              " 'Course user report viewed',\n",
              " 'Course viewed',\n",
              " 'Enrolment instance created',\n",
              " 'Grade deleted',\n",
              " 'Grade item created',\n",
              " 'Grade item deleted',\n",
              " 'Grade item updated',\n",
              " 'Grade overview report viewed',\n",
              " 'Grade single view report viewed.',\n",
              " 'Grade user report viewed',\n",
              " 'Grader report viewed',\n",
              " 'Item created',\n",
              " 'Item deleted',\n",
              " 'Log report viewed',\n",
              " 'Question category created',\n",
              " 'Question category viewed',\n",
              " 'Question created',\n",
              " 'Question deleted',\n",
              " 'Question moved',\n",
              " 'Question updated',\n",
              " 'Question viewed',\n",
              " 'Questions imported',\n",
              " 'Role assigned',\n",
              " 'Role unassigned',\n",
              " 'Step shown',\n",
              " 'Tour ended',\n",
              " 'Tour started',\n",
              " 'User enrolled in course',\n",
              " 'User graded',\n",
              " 'User list viewed',\n",
              " 'User profile viewed',\n",
              " 'User unenrolled from course'}"
            ]
          },
          "metadata": {},
          "execution_count": 6
        }
      ]
    },
    {
      "cell_type": "code",
      "source": [
        "#different Event context types\n",
        "lm = df[df['Event context'].notnull()]\n",
        "\n",
        "arrnew = set()\n",
        "i=0\n",
        "while i<len(lm):\n",
        "  category = lm['Event context'][i].split(\":\")[0]\n",
        "  arrnew.add(category)\n",
        "  i = i+1\n",
        "arrnew"
      ],
      "metadata": {
        "colab": {
          "base_uri": "https://localhost:8080/"
        },
        "id": "gyNVb91AJdb-",
        "outputId": "b554db78-7db9-4574-da16-f10c487aea38"
      },
      "execution_count": null,
      "outputs": [
        {
          "output_type": "execute_result",
          "data": {
            "text/plain": [
              "{'Assignment',\n",
              " 'Course',\n",
              " 'Feedback',\n",
              " 'File',\n",
              " 'Forum',\n",
              " 'Interactive Content',\n",
              " 'Label',\n",
              " 'Other',\n",
              " 'Page',\n",
              " 'Quiz',\n",
              " 'URL'}"
            ]
          },
          "metadata": {},
          "execution_count": 12
        }
      ]
    },
    {
      "cell_type": "code",
      "source": [
        "# Event context--> 'URL: (different types)'\n",
        "url = df[df['Event context'].notnull()]\n",
        "\n",
        "def materials2(url):\n",
        "  if url[0:3] == 'URL':\n",
        "    return url\n",
        "\n",
        "#newfile = file['Event context'].apply(materials)\n",
        "i =0\n",
        "arr3 = set()\n",
        "while i<len(url):\n",
        "  newurl = materials2(url['Event context'][i])\n",
        "  if newurl != None:\n",
        "    arr3.add(url['Event context'][i])\n",
        "  i = i+1\n",
        "arr3"
      ],
      "metadata": {
        "colab": {
          "base_uri": "https://localhost:8080/"
        },
        "id": "KykZ-BFhMNeW",
        "outputId": "8fcc0f03-7d14-4bab-bfa4-b2bdffe989eb"
      },
      "execution_count": 25,
      "outputs": [
        {
          "output_type": "execute_result",
          "data": {
            "text/plain": [
              "{'URL: GP106 Group Project Discussion Slack Channel',\n",
              " 'URL: GP106 Project Groups',\n",
              " 'URL: GP106 Project Kits Collection Form',\n",
              " 'URL: Signal Group Link for \"GP106 - 2021 Official\"'}"
            ]
          },
          "metadata": {},
          "execution_count": 25
        }
      ]
    },
    {
      "cell_type": "code",
      "source": [
        "# Event context--> 'Interactive: (different types)'\n",
        "interactive = df[df['Event context'].notnull()]\n",
        "\n",
        "def materials3(interactive):\n",
        "  if interactive[0:19] == 'Interactive Content':\n",
        "    return interactive\n",
        "\n",
        "#newfile = file['Event context'].apply(materials)\n",
        "i =0\n",
        "arr4 = set()\n",
        "while i<len(interactive):\n",
        "  newinter = materials3(interactive['Event context'][i])\n",
        "  if newinter != None:\n",
        "    arr4.add(interactive['Event name'][i])\n",
        "  i = i+1\n",
        "arr4"
      ],
      "metadata": {
        "colab": {
          "base_uri": "https://localhost:8080/"
        },
        "id": "nvyJxcEdj9Lr",
        "outputId": "991b1526-8872-4e41-e2f1-127e612ac500"
      },
      "execution_count": null,
      "outputs": [
        {
          "output_type": "execute_result",
          "data": {
            "text/plain": [
              "{'Course activity completion updated',\n",
              " 'Course module created',\n",
              " 'Course module updated',\n",
              " 'Course module viewed',\n",
              " 'mod_hvp: attempt submitted'}"
            ]
          },
          "metadata": {},
          "execution_count": 12
        }
      ]
    },
    {
      "cell_type": "code",
      "source": [
        "# Event context--> 'Label: (different types)'\n",
        "label = df[df['Event context'].notnull()]\n",
        "\n",
        "def materials4(label):\n",
        "  if label[0:5] == 'Label':\n",
        "    return label\n",
        "\n",
        "#newfile = file['Event context'].apply(materials)\n",
        "i =0\n",
        "arr5 = set()\n",
        "while i<len(label):\n",
        "  newlabel = materials4(label['Event context'][i])\n",
        "  if newlabel != None:\n",
        "    arr5.add(label['Event context'][i])\n",
        "  i = i+1\n",
        "arr5"
      ],
      "metadata": {
        "colab": {
          "base_uri": "https://localhost:8080/"
        },
        "id": "lJ-NSLq3lh0h",
        "outputId": "ea1f8d8b-a8f8-489a-9282-91474f84a739"
      },
      "execution_count": null,
      "outputs": [
        {
          "output_type": "execute_result",
          "data": {
            "text/plain": [
              "{'Label: Exam Instructions (08/09/2021):\\nMid-semester exam...',\n",
              " 'Label: Feedback:',\n",
              " 'Label: GP106 Labs: (copy)',\n",
              " 'Label: GP106 Project\\n\\nInformation about the project wil...',\n",
              " 'Label: Lab Materials :',\n",
              " 'Label: Lecture 10: Modules, Documentation and Testing\\n\\n...',\n",
              " 'Label: Lecture 13: Data Structures and Object-Oriented Pr...',\n",
              " 'Label: Lecture 14: OOP and Vectors and Matrices\\nzoom_0.m...',\n",
              " 'Label: Lecture 15: Vectors and Matrices (Part II) and Plo...',\n",
              " 'Label: Lecture 16: Plotting (Part II)\\nzoom_0.mp4',\n",
              " 'Label: Lecture 17: Data Structures and OOP\\n\\n\\nzoom_0.mp...',\n",
              " 'Label: Lecture 17: GUI in Python\\nzoom_1.mp4',\n",
              " 'Label: Lecture 18: Vectors and Matrices - part I\\nzoom_0....',\n",
              " 'Label: Lecture 19: Vectors and Matrices part II\\nzoom_0.m...',\n",
              " 'Label: Lecture 1: Introduction and Data representation (p...',\n",
              " 'Label: Lecture 20: Vectors and Matrices part III\\nzoom_0....',\n",
              " 'Label: Lecture 21: Vectors and Matrices part IV\\n\\nout.mp...',\n",
              " 'Label: Lecture 22: Plotting 2D and 3D Graphs part I\\n\\nzo...',\n",
              " 'Label: Lecture 23: Plotting 2D and 3D Graphs part II\\n\\nz...',\n",
              " 'Label: Lecture 2: Data Representation (part II)\\nzoom_0.m...',\n",
              " 'Label: Lecture 3: Python Programming\\nzoom_0.mp4',\n",
              " 'Label: Lecture 4: Python Programming - Input/Output\\nzoom...',\n",
              " 'Label: Lecture 5: Operators and Flowcharts\\nzoom_0.mp4',\n",
              " 'Label: Lecture 6 : Flowcharts II\\nzoom_0.mp4',\n",
              " 'Label: Lecture 7: Control Structures in Python I\\nzoom_0....',\n",
              " 'Label: Lecture 8: Control Structures II, Jump Statements,...',\n",
              " 'Label: Lecture 9: Functions II, File Handling, Modules (i...',\n",
              " 'Label: Lecture Materials :',\n",
              " 'Label: Lecture Materials : (copy)',\n",
              " 'Label: Lecture Materials : (copy) (copy)',\n",
              " 'Label: Old Lectures',\n",
              " 'Label: Update (07/09/2021): The mock examination will be ...'}"
            ]
          },
          "metadata": {},
          "execution_count": 9
        }
      ]
    },
    {
      "cell_type": "code",
      "source": [
        "# Event context--> 'Page: (different types)'\n",
        "page = df[df['Event context'].notnull()]\n",
        "\n",
        "def materials5(page):\n",
        "  if page[0:4] == 'Page':\n",
        "    return page\n",
        "\n",
        "#newfile = file['Event context'].apply(materials)\n",
        "i =0\n",
        "arr6 = set()\n",
        "while i<len(page):\n",
        "  newpage = materials5(page['Event context'][i])\n",
        "  if newpage != None:\n",
        "    arr6.add(page['Event name'][i])\n",
        "  i = i+1\n",
        "arr6"
      ],
      "metadata": {
        "colab": {
          "base_uri": "https://localhost:8080/"
        },
        "id": "oQMs41I2r7kr",
        "outputId": "445fc108-3d43-4df3-8da0-519e49c2120c"
      },
      "execution_count": null,
      "outputs": [
        {
          "output_type": "execute_result",
          "data": {
            "text/plain": [
              "{'Course activity completion updated',\n",
              " 'Course module created',\n",
              " 'Course module updated',\n",
              " 'Course module viewed',\n",
              " 'Step shown',\n",
              " 'Tour ended',\n",
              " 'Tour started'}"
            ]
          },
          "metadata": {},
          "execution_count": 8
        }
      ]
    },
    {
      "cell_type": "markdown",
      "source": [
        ""
      ],
      "metadata": {
        "id": "Ios8GV9Yeq6z"
      }
    },
    {
      "cell_type": "code",
      "source": [
        "# Event context--> 'Other: (different types)'\n",
        "other = df[df['Event context'].notnull()]\n",
        "\n",
        "def materials6(other):\n",
        "  if other[0:5] == 'Other':\n",
        "    return other\n",
        "\n",
        "#newfile = file['Event context'].apply(materials)\n",
        "i =0\n",
        "arr7 = set()\n",
        "while i<len(other):\n",
        "  newother = materials6(other['Event context'][i])\n",
        "  if newother != None:\n",
        "    arr7.add(other['Event context'][i])\n",
        "  i = i+1\n",
        "arr7"
      ],
      "metadata": {
        "colab": {
          "base_uri": "https://localhost:8080/"
        },
        "id": "PT20hRJjuxGV",
        "outputId": "1185d40c-c65a-4d41-a48a-618bf69abb4f"
      },
      "execution_count": null,
      "outputs": [
        {
          "output_type": "execute_result",
          "data": {
            "text/plain": [
              "{'Other'}"
            ]
          },
          "metadata": {},
          "execution_count": 17
        }
      ]
    },
    {
      "cell_type": "code",
      "source": [
        "# Event context--> 'Assignment: (different types)'\n",
        "assignment = df[df['Event context'].notnull()]\n",
        "\n",
        "def materials7(assignment):\n",
        "  if assignment[0:10] == 'Assignment':\n",
        "    return assignment\n",
        "\n",
        "#newfile = file['Event context'].apply(materials)\n",
        "i =0\n",
        "arr8 = set()\n",
        "while i<len(assignment):\n",
        "  newassignment = materials7(assignment['Event context'][i])\n",
        "  if newassignment != None:\n",
        "    arr8.add(assignment['Event name'][i])\n",
        "  i = i+1\n",
        "arr8"
      ],
      "metadata": {
        "colab": {
          "base_uri": "https://localhost:8080/"
        },
        "id": "a5Op9LYbgR4u",
        "outputId": "92da02a9-8769-4030-cfa7-a669ed516a90"
      },
      "execution_count": null,
      "outputs": [
        {
          "output_type": "execute_result",
          "data": {
            "text/plain": [
              "{'A file has been uploaded.',\n",
              " 'A submission has been submitted.',\n",
              " 'All the submissions are being downloaded.',\n",
              " 'Comment created',\n",
              " 'Course activity completion updated',\n",
              " 'Course module created',\n",
              " 'Course module updated',\n",
              " 'Course module viewed',\n",
              " 'Grading table viewed',\n",
              " 'Remove submission confirmation viewed.',\n",
              " 'Step shown',\n",
              " 'Submission created.',\n",
              " 'Submission form viewed.',\n",
              " 'Submission updated.',\n",
              " 'The status of the submission has been updated.',\n",
              " 'The status of the submission has been viewed.',\n",
              " 'Tour ended',\n",
              " 'Tour started'}"
            ]
          },
          "metadata": {},
          "execution_count": 16
        }
      ]
    },
    {
      "cell_type": "code",
      "source": [
        "# Event context--> 'Quiz: (type)' with user id\n",
        "quiz = df[df['Event context'].notnull()]\n",
        "\n",
        "def materials8(quiz):\n",
        "  if quiz[0:4] == 'Quiz':\n",
        "    return quiz\n",
        "\n",
        "#newfile = file['Event context'].apply(materials)\n",
        "i =0\n",
        "arr9 = set()\n",
        "Dict = {}\n",
        "while i<len(quiz):\n",
        "  newquiz = materials8(quiz['Event context'][i])\n",
        "  if newquiz != None:\n",
        "    arr9.add(quiz['Event context'][i])\n",
        "  \n",
        "  i = i+1\n",
        "arr9\n",
        "#Dict\n",
        "#quiz['quiz_name'] = quiz['Event context'].apply(materials8)\n",
        "#quiz.head()"
      ],
      "metadata": {
        "colab": {
          "base_uri": "https://localhost:8080/"
        },
        "id": "QzBsFm1xgyvJ",
        "outputId": "028c98d0-a47b-490a-c8a4-baf08b87cc26"
      },
      "execution_count": null,
      "outputs": [
        {
          "output_type": "execute_result",
          "data": {
            "text/plain": [
              "{'Quiz: Quiz 01 - Group AB, CD',\n",
              " 'Quiz: Quiz 01 - Group AB, CD (Attempt 2)',\n",
              " 'Quiz: Quiz 01 - Group AB, CD (Attempt 3)',\n",
              " 'Quiz: Quiz 01 - Group AB, CD (Attempt 4)',\n",
              " 'Quiz: Quiz 02 - Conditions and Loops',\n",
              " 'Quiz: Quiz 02 - Conditions and Loops (Attempt 2)',\n",
              " 'Quiz: Quiz 02 - Conditions and Loops (Attempt 3)',\n",
              " 'Quiz: Quiz 03 - Functions - (Attempt 3) - all groups',\n",
              " 'Quiz: Quiz 03 - Functions - AB',\n",
              " 'Quiz: Quiz 03 - Functions - AB (Attempt 2)',\n",
              " 'Quiz: Quiz 03 - Functions - CD',\n",
              " 'Quiz: Quiz 03 - Functions - CD (Attempt 2)',\n",
              " 'Quiz: Quiz 04 - Data Structures, Modules, Docs and Testing',\n",
              " 'Quiz: Quiz 04 - Data Structures, Modules, Docs and Testing (Attempt 2)',\n",
              " 'Quiz: Quiz 04 - Data Structures, Modules, Docs and Testing (Attempt 3)',\n",
              " 'Quiz: Quiz 04 - Data Structures, Modules, Docs and Testing (Attempt 4)',\n",
              " 'Quiz: Quiz 05 - Numpy and Matplotlib',\n",
              " 'Quiz: Quiz 05 - Numpy and Matplotlib (Attempt 2)',\n",
              " 'Quiz: Quiz 05 - Numpy and Matplotlib (Attempt 3)',\n",
              " 'Quiz: Quiz 06 - Object Oriented Programming',\n",
              " 'Quiz: Quiz 06 - Object Oriented Programming (Attempt 2)',\n",
              " 'Quiz: Quiz 06 - Object Oriented Programming (Attempt 3)',\n",
              " 'Quiz: Quiz 07',\n",
              " 'Quiz: Quiz 07 (Attempt 2)'}"
            ]
          },
          "metadata": {},
          "execution_count": 15
        }
      ]
    },
    {
      "cell_type": "code",
      "source": [
        "feedback = df[df['Event context'].notnull()]\n",
        "\n",
        "def materials10(feedback):\n",
        "  if feedback[0:8] == 'Feedback':\n",
        "    return feedback\n",
        "\n",
        "#newfile = file['Event context'].apply(materials)\n",
        "i =0\n",
        "arr11 = set()\n",
        "Dict = {}\n",
        "while i<len(feedback):\n",
        "  newfeedback = materials10(feedback['Event context'][i])\n",
        "  if newfeedback != None:\n",
        "    arr11.add(feedback['Event context'][i])\n",
        "  i = i+1\n",
        "arr11"
      ],
      "metadata": {
        "colab": {
          "base_uri": "https://localhost:8080/"
        },
        "id": "BRudtDTOZqIz",
        "outputId": "5cee598c-7035-4f33-a6d2-35962e060121"
      },
      "execution_count": null,
      "outputs": [
        {
          "output_type": "execute_result",
          "data": {
            "text/plain": [
              "{'Feedback: GP106 - End-Semester Feedback - Course',\n",
              " 'Feedback: GP106 - End-Semester Feedback - Lecturer',\n",
              " 'Feedback: GP106 - Mid-Semester Feedback - Course',\n",
              " 'Feedback: GP106 - Mid-Semester Feedback - Lecturer'}"
            ]
          },
          "metadata": {},
          "execution_count": 8
        }
      ]
    },
    {
      "cell_type": "code",
      "source": [
        "# Event context--> 'Quiz: (type)' with user id\n",
        "forum = df[df['Event context'].notnull()]\n",
        "\n",
        "def materials9(forum):\n",
        "  if forum[0:5] == 'Forum':\n",
        "    return forum\n",
        "\n",
        "#newfile = file['Event context'].apply(materials)\n",
        "i =0\n",
        "arr10 = set()\n",
        "while i<len(forum):\n",
        "  newforum = materials9(forum['Event context'][i])\n",
        "  if newforum != None:\n",
        "    arr10.add(forum['Event name'][i])\n",
        "  i = i+1\n",
        "arr10"
      ],
      "metadata": {
        "colab": {
          "base_uri": "https://localhost:8080/"
        },
        "id": "1glHPs9V3AJu",
        "outputId": "b32ddee8-78d6-4a7d-a68e-03edeaf1d3d8"
      },
      "execution_count": null,
      "outputs": [
        {
          "output_type": "execute_result",
          "data": {
            "text/plain": [
              "{'Course activity completion updated',\n",
              " 'Course module created',\n",
              " 'Course module updated',\n",
              " 'Course module viewed',\n",
              " 'Discussion created',\n",
              " 'Discussion moved',\n",
              " 'Discussion subscription created',\n",
              " 'Discussion subscription deleted',\n",
              " 'Discussion viewed',\n",
              " 'Post created',\n",
              " 'Post deleted',\n",
              " 'Post updated',\n",
              " 'Some content has been posted.',\n",
              " 'Step shown',\n",
              " 'Subscription created',\n",
              " 'Subscription deleted',\n",
              " 'Tour ended',\n",
              " 'Tour started'}"
            ]
          },
          "metadata": {},
          "execution_count": 12
        }
      ]
    },
    {
      "cell_type": "code",
      "source": [
        "def extractUserId(desc):\n",
        "  return desc.split()[4][1:-1]\n",
        "\n",
        "def extractCourseModuleId(desc):\n",
        "  return desc.split()[-1][1:-2]\n",
        "\n",
        "def extractAction(eventName):\n",
        "  return eventName.split()[-1][0:-1]+'d'\n",
        "\n",
        "df_quiz = quiz[(quiz['Event name'] == 'Quiz attempt submitted') | (quiz['Event name'] == 'Quiz attempt started') | (quiz['Event name'] == 'Quiz attempt viewed')] \n",
        "df_quiz.rename(columns={\"Event context\":\"Quiz_name\", \"Time\":\"Date_time\"}, inplace=True)\n",
        "df_quiz['User_id'] = df_quiz['Description'].apply(extractUserId)\n",
        "df_quiz['Module_id'] = df_quiz['Description'].apply(extractCourseModuleId)\n",
        "df_quiz['Action'] = df_quiz['Event name'].apply(extractAction)\n",
        "df_quiz = df_quiz[['User_id', 'Quiz_name', 'Module_id', 'Date_time','Action']]\n",
        "\n",
        "\n",
        "\n",
        "df_quiz.head()\n"
      ],
      "metadata": {
        "id": "kXpiM-aGIO66",
        "colab": {
          "base_uri": "https://localhost:8080/",
          "height": 206
        },
        "outputId": "49cfbc7b-03ef-4647-f3cb-0da25c955023"
      },
      "execution_count": null,
      "outputs": [
        {
          "output_type": "execute_result",
          "data": {
            "text/plain": [
              "      User_id                                          Quiz_name Module_id  \\\n",
              "27761    3790  Quiz: Quiz 04 - Data Structures, Modules, Docs...     44906   \n",
              "29123    3526  Quiz: Quiz 06 - Object Oriented Programming (A...     44908   \n",
              "29127    3526  Quiz: Quiz 06 - Object Oriented Programming (A...     44908   \n",
              "29129    3526  Quiz: Quiz 06 - Object Oriented Programming (A...     44908   \n",
              "29130    3526  Quiz: Quiz 06 - Object Oriented Programming (A...     44908   \n",
              "\n",
              "             Date_time     Action  \n",
              "27761  12/10/21, 09:00  submitted  \n",
              "29123   9/10/21, 17:16  submitted  \n",
              "29127   9/10/21, 17:15     viewed  \n",
              "29129   9/10/21, 17:14     viewed  \n",
              "29130   9/10/21, 17:14     viewed  "
            ],
            "text/html": [
              "\n",
              "  <div id=\"df-00835a92-f678-4e5a-9468-f5f23e7687c8\">\n",
              "    <div class=\"colab-df-container\">\n",
              "      <div>\n",
              "<style scoped>\n",
              "    .dataframe tbody tr th:only-of-type {\n",
              "        vertical-align: middle;\n",
              "    }\n",
              "\n",
              "    .dataframe tbody tr th {\n",
              "        vertical-align: top;\n",
              "    }\n",
              "\n",
              "    .dataframe thead th {\n",
              "        text-align: right;\n",
              "    }\n",
              "</style>\n",
              "<table border=\"1\" class=\"dataframe\">\n",
              "  <thead>\n",
              "    <tr style=\"text-align: right;\">\n",
              "      <th></th>\n",
              "      <th>User_id</th>\n",
              "      <th>Quiz_name</th>\n",
              "      <th>Module_id</th>\n",
              "      <th>Date_time</th>\n",
              "      <th>Action</th>\n",
              "    </tr>\n",
              "  </thead>\n",
              "  <tbody>\n",
              "    <tr>\n",
              "      <th>27761</th>\n",
              "      <td>3790</td>\n",
              "      <td>Quiz: Quiz 04 - Data Structures, Modules, Docs...</td>\n",
              "      <td>44906</td>\n",
              "      <td>12/10/21, 09:00</td>\n",
              "      <td>submitted</td>\n",
              "    </tr>\n",
              "    <tr>\n",
              "      <th>29123</th>\n",
              "      <td>3526</td>\n",
              "      <td>Quiz: Quiz 06 - Object Oriented Programming (A...</td>\n",
              "      <td>44908</td>\n",
              "      <td>9/10/21, 17:16</td>\n",
              "      <td>submitted</td>\n",
              "    </tr>\n",
              "    <tr>\n",
              "      <th>29127</th>\n",
              "      <td>3526</td>\n",
              "      <td>Quiz: Quiz 06 - Object Oriented Programming (A...</td>\n",
              "      <td>44908</td>\n",
              "      <td>9/10/21, 17:15</td>\n",
              "      <td>viewed</td>\n",
              "    </tr>\n",
              "    <tr>\n",
              "      <th>29129</th>\n",
              "      <td>3526</td>\n",
              "      <td>Quiz: Quiz 06 - Object Oriented Programming (A...</td>\n",
              "      <td>44908</td>\n",
              "      <td>9/10/21, 17:14</td>\n",
              "      <td>viewed</td>\n",
              "    </tr>\n",
              "    <tr>\n",
              "      <th>29130</th>\n",
              "      <td>3526</td>\n",
              "      <td>Quiz: Quiz 06 - Object Oriented Programming (A...</td>\n",
              "      <td>44908</td>\n",
              "      <td>9/10/21, 17:14</td>\n",
              "      <td>viewed</td>\n",
              "    </tr>\n",
              "  </tbody>\n",
              "</table>\n",
              "</div>\n",
              "      <button class=\"colab-df-convert\" onclick=\"convertToInteractive('df-00835a92-f678-4e5a-9468-f5f23e7687c8')\"\n",
              "              title=\"Convert this dataframe to an interactive table.\"\n",
              "              style=\"display:none;\">\n",
              "        \n",
              "  <svg xmlns=\"http://www.w3.org/2000/svg\" height=\"24px\"viewBox=\"0 0 24 24\"\n",
              "       width=\"24px\">\n",
              "    <path d=\"M0 0h24v24H0V0z\" fill=\"none\"/>\n",
              "    <path d=\"M18.56 5.44l.94 2.06.94-2.06 2.06-.94-2.06-.94-.94-2.06-.94 2.06-2.06.94zm-11 1L8.5 8.5l.94-2.06 2.06-.94-2.06-.94L8.5 2.5l-.94 2.06-2.06.94zm10 10l.94 2.06.94-2.06 2.06-.94-2.06-.94-.94-2.06-.94 2.06-2.06.94z\"/><path d=\"M17.41 7.96l-1.37-1.37c-.4-.4-.92-.59-1.43-.59-.52 0-1.04.2-1.43.59L10.3 9.45l-7.72 7.72c-.78.78-.78 2.05 0 2.83L4 21.41c.39.39.9.59 1.41.59.51 0 1.02-.2 1.41-.59l7.78-7.78 2.81-2.81c.8-.78.8-2.07 0-2.86zM5.41 20L4 18.59l7.72-7.72 1.47 1.35L5.41 20z\"/>\n",
              "  </svg>\n",
              "      </button>\n",
              "      \n",
              "  <style>\n",
              "    .colab-df-container {\n",
              "      display:flex;\n",
              "      flex-wrap:wrap;\n",
              "      gap: 12px;\n",
              "    }\n",
              "\n",
              "    .colab-df-convert {\n",
              "      background-color: #E8F0FE;\n",
              "      border: none;\n",
              "      border-radius: 50%;\n",
              "      cursor: pointer;\n",
              "      display: none;\n",
              "      fill: #1967D2;\n",
              "      height: 32px;\n",
              "      padding: 0 0 0 0;\n",
              "      width: 32px;\n",
              "    }\n",
              "\n",
              "    .colab-df-convert:hover {\n",
              "      background-color: #E2EBFA;\n",
              "      box-shadow: 0px 1px 2px rgba(60, 64, 67, 0.3), 0px 1px 3px 1px rgba(60, 64, 67, 0.15);\n",
              "      fill: #174EA6;\n",
              "    }\n",
              "\n",
              "    [theme=dark] .colab-df-convert {\n",
              "      background-color: #3B4455;\n",
              "      fill: #D2E3FC;\n",
              "    }\n",
              "\n",
              "    [theme=dark] .colab-df-convert:hover {\n",
              "      background-color: #434B5C;\n",
              "      box-shadow: 0px 1px 3px 1px rgba(0, 0, 0, 0.15);\n",
              "      filter: drop-shadow(0px 1px 2px rgba(0, 0, 0, 0.3));\n",
              "      fill: #FFFFFF;\n",
              "    }\n",
              "  </style>\n",
              "\n",
              "      <script>\n",
              "        const buttonEl =\n",
              "          document.querySelector('#df-00835a92-f678-4e5a-9468-f5f23e7687c8 button.colab-df-convert');\n",
              "        buttonEl.style.display =\n",
              "          google.colab.kernel.accessAllowed ? 'block' : 'none';\n",
              "\n",
              "        async function convertToInteractive(key) {\n",
              "          const element = document.querySelector('#df-00835a92-f678-4e5a-9468-f5f23e7687c8');\n",
              "          const dataTable =\n",
              "            await google.colab.kernel.invokeFunction('convertToInteractive',\n",
              "                                                     [key], {});\n",
              "          if (!dataTable) return;\n",
              "\n",
              "          const docLinkHtml = 'Like what you see? Visit the ' +\n",
              "            '<a target=\"_blank\" href=https://colab.research.google.com/notebooks/data_table.ipynb>data table notebook</a>'\n",
              "            + ' to learn more about interactive tables.';\n",
              "          element.innerHTML = '';\n",
              "          dataTable['output_type'] = 'display_data';\n",
              "          await google.colab.output.renderOutput(dataTable, element);\n",
              "          const docLink = document.createElement('div');\n",
              "          docLink.innerHTML = docLinkHtml;\n",
              "          element.appendChild(docLink);\n",
              "        }\n",
              "      </script>\n",
              "    </div>\n",
              "  </div>\n",
              "  "
            ]
          },
          "metadata": {},
          "execution_count": 52
        }
      ]
    },
    {
      "cell_type": "code",
      "source": [
        "df_quiz.to_csv('Quiz.csv')"
      ],
      "metadata": {
        "id": "toIAdcG3dh-k"
      },
      "execution_count": null,
      "outputs": []
    },
    {
      "cell_type": "code",
      "source": [
        "from google.colab import files\n",
        "files.download(\"Quiz.csv\")"
      ],
      "metadata": {
        "colab": {
          "base_uri": "https://localhost:8080/",
          "height": 34
        },
        "id": "zgoOeZrsd6gU",
        "outputId": "7ebf1744-5df6-483d-e1e3-51154a125ce6"
      },
      "execution_count": null,
      "outputs": [
        {
          "output_type": "display_data",
          "data": {
            "text/plain": [
              "<IPython.core.display.Javascript object>"
            ],
            "application/javascript": [
              "\n",
              "    async function download(id, filename, size) {\n",
              "      if (!google.colab.kernel.accessAllowed) {\n",
              "        return;\n",
              "      }\n",
              "      const div = document.createElement('div');\n",
              "      const label = document.createElement('label');\n",
              "      label.textContent = `Downloading \"${filename}\": `;\n",
              "      div.appendChild(label);\n",
              "      const progress = document.createElement('progress');\n",
              "      progress.max = size;\n",
              "      div.appendChild(progress);\n",
              "      document.body.appendChild(div);\n",
              "\n",
              "      const buffers = [];\n",
              "      let downloaded = 0;\n",
              "\n",
              "      const channel = await google.colab.kernel.comms.open(id);\n",
              "      // Send a message to notify the kernel that we're ready.\n",
              "      channel.send({})\n",
              "\n",
              "      for await (const message of channel.messages) {\n",
              "        // Send a message to notify the kernel that we're ready.\n",
              "        channel.send({})\n",
              "        if (message.buffers) {\n",
              "          for (const buffer of message.buffers) {\n",
              "            buffers.push(buffer);\n",
              "            downloaded += buffer.byteLength;\n",
              "            progress.value = downloaded;\n",
              "          }\n",
              "        }\n",
              "      }\n",
              "      const blob = new Blob(buffers, {type: 'application/binary'});\n",
              "      const a = document.createElement('a');\n",
              "      a.href = window.URL.createObjectURL(blob);\n",
              "      a.download = filename;\n",
              "      div.appendChild(a);\n",
              "      a.click();\n",
              "      div.remove();\n",
              "    }\n",
              "  "
            ]
          },
          "metadata": {}
        },
        {
          "output_type": "display_data",
          "data": {
            "text/plain": [
              "<IPython.core.display.Javascript object>"
            ],
            "application/javascript": [
              "download(\"download_83e7dfac-4599-4f98-99ff-a1df81d31aae\", \"Quiz.csv\", 9047930)"
            ]
          },
          "metadata": {}
        }
      ]
    },
    {
      "cell_type": "code",
      "source": [
        "def extractCourseId(desc):\n",
        "  return desc.split()[-1][1:-2]\n",
        "df_system = df[(df['Event name'] == 'Course viewed')] \n",
        "df_system['Course_id'] = df_system['Description'].apply(extractCourseId)\n",
        "df_system = df_system[['Course_id']]\n",
        "df_system['Course_id'][1]"
      ],
      "metadata": {
        "colab": {
          "base_uri": "https://localhost:8080/",
          "height": 35
        },
        "id": "fX3qnIa1JCcT",
        "outputId": "255dfaee-8813-43c0-e01d-94ab265d2095"
      },
      "execution_count": null,
      "outputs": [
        {
          "output_type": "execute_result",
          "data": {
            "text/plain": [
              "'1214'"
            ],
            "application/vnd.google.colaboratory.intrinsic+json": {
              "type": "string"
            }
          },
          "metadata": {},
          "execution_count": 42
        }
      ]
    },
    {
      "cell_type": "code",
      "source": [
        "import csv\n",
        "header = ['No of log records','No of users','Course ID']\n",
        "data = [getNoOfLogRecords(),des['user'].nunique(),df_system['Course_id'][1]]\n",
        "\n",
        "with open('System.csv','w',encoding='UTF8') as f:\n",
        "  writer = csv.writer(f)\n",
        "  writer.writerow(header)\n",
        "  writer.writerow(data)"
      ],
      "metadata": {
        "id": "4dU2YqolzjdF"
      },
      "execution_count": null,
      "outputs": []
    },
    {
      "cell_type": "code",
      "source": [
        "from google.colab import files\n",
        "files.download(\"System.csv\")"
      ],
      "metadata": {
        "colab": {
          "base_uri": "https://localhost:8080/",
          "height": 17
        },
        "id": "Es5vxbp63R2t",
        "outputId": "af306563-dbb5-4124-fe7c-3913528bb584"
      },
      "execution_count": null,
      "outputs": [
        {
          "output_type": "display_data",
          "data": {
            "text/plain": [
              "<IPython.core.display.Javascript object>"
            ],
            "application/javascript": [
              "\n",
              "    async function download(id, filename, size) {\n",
              "      if (!google.colab.kernel.accessAllowed) {\n",
              "        return;\n",
              "      }\n",
              "      const div = document.createElement('div');\n",
              "      const label = document.createElement('label');\n",
              "      label.textContent = `Downloading \"${filename}\": `;\n",
              "      div.appendChild(label);\n",
              "      const progress = document.createElement('progress');\n",
              "      progress.max = size;\n",
              "      div.appendChild(progress);\n",
              "      document.body.appendChild(div);\n",
              "\n",
              "      const buffers = [];\n",
              "      let downloaded = 0;\n",
              "\n",
              "      const channel = await google.colab.kernel.comms.open(id);\n",
              "      // Send a message to notify the kernel that we're ready.\n",
              "      channel.send({})\n",
              "\n",
              "      for await (const message of channel.messages) {\n",
              "        // Send a message to notify the kernel that we're ready.\n",
              "        channel.send({})\n",
              "        if (message.buffers) {\n",
              "          for (const buffer of message.buffers) {\n",
              "            buffers.push(buffer);\n",
              "            downloaded += buffer.byteLength;\n",
              "            progress.value = downloaded;\n",
              "          }\n",
              "        }\n",
              "      }\n",
              "      const blob = new Blob(buffers, {type: 'application/binary'});\n",
              "      const a = document.createElement('a');\n",
              "      a.href = window.URL.createObjectURL(blob);\n",
              "      a.download = filename;\n",
              "      div.appendChild(a);\n",
              "      a.click();\n",
              "      div.remove();\n",
              "    }\n",
              "  "
            ]
          },
          "metadata": {}
        },
        {
          "output_type": "display_data",
          "data": {
            "text/plain": [
              "<IPython.core.display.Javascript object>"
            ],
            "application/javascript": [
              "download(\"download_0470449d-9838-43f9-b49b-8fe6d4eb2206\", \"System.csv\", 58)"
            ]
          },
          "metadata": {}
        }
      ]
    },
    {
      "cell_type": "code",
      "source": [
        "df_quiz = pd.read_csv('/drive/My Drive/Quiz.csv')"
      ],
      "metadata": {
        "id": "5sg2cMxPes89"
      },
      "execution_count": 6,
      "outputs": []
    },
    {
      "cell_type": "code",
      "source": [
        "arr = []\n",
        "arr = df_quiz['Module_id'].unique()\n",
        "arr0 = df_quiz['Quiz_name'].unique()\n",
        "\n"
      ],
      "metadata": {
        "id": "LPNORP7sit1i"
      },
      "execution_count": 89,
      "outputs": []
    },
    {
      "cell_type": "code",
      "source": [
        "df_quiz_sum = df_quiz.groupby(['Module_id','Action']).size().reset_index().groupby(['Module_id','Action'])[[0]].max()\n",
        "df_quiz_sum.head()"
      ],
      "metadata": {
        "colab": {
          "base_uri": "https://localhost:8080/",
          "height": 238
        },
        "id": "gK1NUB9Ast9X",
        "outputId": "e3f544ee-91c4-489e-f341-bbdf44b3355b"
      },
      "execution_count": 75,
      "outputs": [
        {
          "output_type": "execute_result",
          "data": {
            "text/plain": [
              "                         0\n",
              "Module_id Action          \n",
              "34054     started      479\n",
              "          submitted    479\n",
              "          viewed     11439\n",
              "35514     started      116\n",
              "          submitted    116"
            ],
            "text/html": [
              "\n",
              "  <div id=\"df-5a4e3eb3-e8df-42a8-861c-4d3b228203b8\">\n",
              "    <div class=\"colab-df-container\">\n",
              "      <div>\n",
              "<style scoped>\n",
              "    .dataframe tbody tr th:only-of-type {\n",
              "        vertical-align: middle;\n",
              "    }\n",
              "\n",
              "    .dataframe tbody tr th {\n",
              "        vertical-align: top;\n",
              "    }\n",
              "\n",
              "    .dataframe thead th {\n",
              "        text-align: right;\n",
              "    }\n",
              "</style>\n",
              "<table border=\"1\" class=\"dataframe\">\n",
              "  <thead>\n",
              "    <tr style=\"text-align: right;\">\n",
              "      <th></th>\n",
              "      <th></th>\n",
              "      <th>0</th>\n",
              "    </tr>\n",
              "    <tr>\n",
              "      <th>Module_id</th>\n",
              "      <th>Action</th>\n",
              "      <th></th>\n",
              "    </tr>\n",
              "  </thead>\n",
              "  <tbody>\n",
              "    <tr>\n",
              "      <th rowspan=\"3\" valign=\"top\">34054</th>\n",
              "      <th>started</th>\n",
              "      <td>479</td>\n",
              "    </tr>\n",
              "    <tr>\n",
              "      <th>submitted</th>\n",
              "      <td>479</td>\n",
              "    </tr>\n",
              "    <tr>\n",
              "      <th>viewed</th>\n",
              "      <td>11439</td>\n",
              "    </tr>\n",
              "    <tr>\n",
              "      <th rowspan=\"2\" valign=\"top\">35514</th>\n",
              "      <th>started</th>\n",
              "      <td>116</td>\n",
              "    </tr>\n",
              "    <tr>\n",
              "      <th>submitted</th>\n",
              "      <td>116</td>\n",
              "    </tr>\n",
              "  </tbody>\n",
              "</table>\n",
              "</div>\n",
              "      <button class=\"colab-df-convert\" onclick=\"convertToInteractive('df-5a4e3eb3-e8df-42a8-861c-4d3b228203b8')\"\n",
              "              title=\"Convert this dataframe to an interactive table.\"\n",
              "              style=\"display:none;\">\n",
              "        \n",
              "  <svg xmlns=\"http://www.w3.org/2000/svg\" height=\"24px\"viewBox=\"0 0 24 24\"\n",
              "       width=\"24px\">\n",
              "    <path d=\"M0 0h24v24H0V0z\" fill=\"none\"/>\n",
              "    <path d=\"M18.56 5.44l.94 2.06.94-2.06 2.06-.94-2.06-.94-.94-2.06-.94 2.06-2.06.94zm-11 1L8.5 8.5l.94-2.06 2.06-.94-2.06-.94L8.5 2.5l-.94 2.06-2.06.94zm10 10l.94 2.06.94-2.06 2.06-.94-2.06-.94-.94-2.06-.94 2.06-2.06.94z\"/><path d=\"M17.41 7.96l-1.37-1.37c-.4-.4-.92-.59-1.43-.59-.52 0-1.04.2-1.43.59L10.3 9.45l-7.72 7.72c-.78.78-.78 2.05 0 2.83L4 21.41c.39.39.9.59 1.41.59.51 0 1.02-.2 1.41-.59l7.78-7.78 2.81-2.81c.8-.78.8-2.07 0-2.86zM5.41 20L4 18.59l7.72-7.72 1.47 1.35L5.41 20z\"/>\n",
              "  </svg>\n",
              "      </button>\n",
              "      \n",
              "  <style>\n",
              "    .colab-df-container {\n",
              "      display:flex;\n",
              "      flex-wrap:wrap;\n",
              "      gap: 12px;\n",
              "    }\n",
              "\n",
              "    .colab-df-convert {\n",
              "      background-color: #E8F0FE;\n",
              "      border: none;\n",
              "      border-radius: 50%;\n",
              "      cursor: pointer;\n",
              "      display: none;\n",
              "      fill: #1967D2;\n",
              "      height: 32px;\n",
              "      padding: 0 0 0 0;\n",
              "      width: 32px;\n",
              "    }\n",
              "\n",
              "    .colab-df-convert:hover {\n",
              "      background-color: #E2EBFA;\n",
              "      box-shadow: 0px 1px 2px rgba(60, 64, 67, 0.3), 0px 1px 3px 1px rgba(60, 64, 67, 0.15);\n",
              "      fill: #174EA6;\n",
              "    }\n",
              "\n",
              "    [theme=dark] .colab-df-convert {\n",
              "      background-color: #3B4455;\n",
              "      fill: #D2E3FC;\n",
              "    }\n",
              "\n",
              "    [theme=dark] .colab-df-convert:hover {\n",
              "      background-color: #434B5C;\n",
              "      box-shadow: 0px 1px 3px 1px rgba(0, 0, 0, 0.15);\n",
              "      filter: drop-shadow(0px 1px 2px rgba(0, 0, 0, 0.3));\n",
              "      fill: #FFFFFF;\n",
              "    }\n",
              "  </style>\n",
              "\n",
              "      <script>\n",
              "        const buttonEl =\n",
              "          document.querySelector('#df-5a4e3eb3-e8df-42a8-861c-4d3b228203b8 button.colab-df-convert');\n",
              "        buttonEl.style.display =\n",
              "          google.colab.kernel.accessAllowed ? 'block' : 'none';\n",
              "\n",
              "        async function convertToInteractive(key) {\n",
              "          const element = document.querySelector('#df-5a4e3eb3-e8df-42a8-861c-4d3b228203b8');\n",
              "          const dataTable =\n",
              "            await google.colab.kernel.invokeFunction('convertToInteractive',\n",
              "                                                     [key], {});\n",
              "          if (!dataTable) return;\n",
              "\n",
              "          const docLinkHtml = 'Like what you see? Visit the ' +\n",
              "            '<a target=\"_blank\" href=https://colab.research.google.com/notebooks/data_table.ipynb>data table notebook</a>'\n",
              "            + ' to learn more about interactive tables.';\n",
              "          element.innerHTML = '';\n",
              "          dataTable['output_type'] = 'display_data';\n",
              "          await google.colab.output.renderOutput(dataTable, element);\n",
              "          const docLink = document.createElement('div');\n",
              "          docLink.innerHTML = docLinkHtml;\n",
              "          element.appendChild(docLink);\n",
              "        }\n",
              "      </script>\n",
              "    </div>\n",
              "  </div>\n",
              "  "
            ]
          },
          "metadata": {},
          "execution_count": 75
        }
      ]
    },
    {
      "cell_type": "code",
      "source": [
        "dict1 = {}\n",
        "arr2 = []\n",
        "arr3 = []\n",
        "def countSubmitted(moduleID):\n",
        "  df_quiz1 = df_quiz[df_quiz['Module_id'] == moduleID]\n",
        "  df_quiz2 = df_quiz1[df_quiz1['Action'] == 'submitted']\n",
        "  return df_quiz2['Action'].shape[0]\n",
        "def countViewed(moduleID):\n",
        "  df_quiz3 = df_quiz[df_quiz['Module_id'] == moduleID]\n",
        "  df_quiz4 = df_quiz3[df_quiz3['Action'] == 'viewed']\n",
        "  return df_quiz4['Action'].shape[0]\n",
        "for i in arr:\n",
        "  arr3.append(countViewed(i))\n",
        "  arr2.append(countSubmitted(i))\n",
        "\n",
        "\n",
        "\n"
      ],
      "metadata": {
        "id": "uQy-Afp8X0Kj"
      },
      "execution_count": 67,
      "outputs": []
    },
    {
      "cell_type": "code",
      "source": [
        "import csv\n",
        "\n",
        "a = np.array([arr2])\n",
        "b = np.array([arr])\n",
        "c = np.array([arr3])\n",
        "d = np.array([arr0])\n",
        "#data = [getNoOfLogRecords(),des['user'].nunique(),df_system['Course_id'][1]]\n",
        "\n",
        "with open('Quiz_sum.csv','w',encoding='UTF8') as f:\n",
        "  writer = csv.writer(f)\n",
        "  writer.writerows(b)\n",
        "  writer.writerows(d)\n",
        "  writer.writerows(a)\n",
        "  writer.writerows(c)\n",
        "\n",
        "df = pd.read_csv('Quiz_sum.csv')\n",
        "df = df.T\n",
        "df.to_csv('Quiz_sum.csv')\n"
      ],
      "metadata": {
        "id": "3qeKburagIf4"
      },
      "execution_count": 87,
      "outputs": []
    },
    {
      "cell_type": "code",
      "source": [
        "from google.colab import files\n",
        "files.download(\"Quiz_sum.csv\")"
      ],
      "metadata": {
        "colab": {
          "base_uri": "https://localhost:8080/",
          "height": 17
        },
        "id": "w2zOUBQMg58Y",
        "outputId": "79739a7a-5ac5-4bbc-9875-6298be8fdff4"
      },
      "execution_count": 88,
      "outputs": [
        {
          "output_type": "display_data",
          "data": {
            "text/plain": [
              "<IPython.core.display.Javascript object>"
            ],
            "application/javascript": [
              "\n",
              "    async function download(id, filename, size) {\n",
              "      if (!google.colab.kernel.accessAllowed) {\n",
              "        return;\n",
              "      }\n",
              "      const div = document.createElement('div');\n",
              "      const label = document.createElement('label');\n",
              "      label.textContent = `Downloading \"${filename}\": `;\n",
              "      div.appendChild(label);\n",
              "      const progress = document.createElement('progress');\n",
              "      progress.max = size;\n",
              "      div.appendChild(progress);\n",
              "      document.body.appendChild(div);\n",
              "\n",
              "      const buffers = [];\n",
              "      let downloaded = 0;\n",
              "\n",
              "      const channel = await google.colab.kernel.comms.open(id);\n",
              "      // Send a message to notify the kernel that we're ready.\n",
              "      channel.send({})\n",
              "\n",
              "      for await (const message of channel.messages) {\n",
              "        // Send a message to notify the kernel that we're ready.\n",
              "        channel.send({})\n",
              "        if (message.buffers) {\n",
              "          for (const buffer of message.buffers) {\n",
              "            buffers.push(buffer);\n",
              "            downloaded += buffer.byteLength;\n",
              "            progress.value = downloaded;\n",
              "          }\n",
              "        }\n",
              "      }\n",
              "      const blob = new Blob(buffers, {type: 'application/binary'});\n",
              "      const a = document.createElement('a');\n",
              "      a.href = window.URL.createObjectURL(blob);\n",
              "      a.download = filename;\n",
              "      div.appendChild(a);\n",
              "      a.click();\n",
              "      div.remove();\n",
              "    }\n",
              "  "
            ]
          },
          "metadata": {}
        },
        {
          "output_type": "display_data",
          "data": {
            "text/plain": [
              "<IPython.core.display.Javascript object>"
            ],
            "application/javascript": [
              "download(\"download_4f5161d1-0d95-4001-a6d1-5c0e2897e936\", \"Quiz_sum.csv\", 1460)"
            ]
          },
          "metadata": {}
        }
      ]
    }
  ]
}