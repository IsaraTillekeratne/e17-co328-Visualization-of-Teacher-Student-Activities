{
  "nbformat": 4,
  "nbformat_minor": 0,
  "metadata": {
    "colab": {
      "name": "extract.ipynb",
      "provenance": [],
      "collapsed_sections": []
    },
    "kernelspec": {
      "name": "python3",
      "display_name": "Python 3"
    },
    "language_info": {
      "name": "python"
    }
  },
  "cells": [
    {
      "cell_type": "code",
      "execution_count": null,
      "metadata": {
        "colab": {
          "base_uri": "https://localhost:8080/"
        },
        "id": "DKsGwPfVFs55",
        "outputId": "263a0aa9-9c98-4b8d-aa96-48f330aee83c"
      },
      "outputs": [
        {
          "output_type": "stream",
          "name": "stdout",
          "text": [
            "Mounted at /drive\n"
          ]
        }
      ],
      "source": [
        "import numpy as np\n",
        "import pandas as pd\n",
        "import re\n",
        "from google.colab import drive\n",
        "drive.mount(\"/drive\")"
      ]
    },
    {
      "cell_type": "code",
      "source": [
        "# import pymongo\n",
        "\n",
        "# myclient = pymongo.MongoClient(\"mongodb://localhost:27017/\")\n",
        "# mydb = myclient[\"mydatabase\"]"
      ],
      "metadata": {
        "id": "iTlEuZ8NIlfD"
      },
      "execution_count": null,
      "outputs": []
    },
    {
      "cell_type": "code",
      "source": [
        "df = pd.read_excel('/drive/My Drive/6SP/logs.xlsx')\n",
        "df_new = df[df['Description'].notnull()] # remove rows with empty description field"
      ],
      "metadata": {
        "id": "I4We5vsGGMCt"
      },
      "execution_count": 58,
      "outputs": []
    },
    {
      "cell_type": "code",
      "source": [
        "# 1) function to get number of log records\n",
        "def getNoOfLogRecords():\n",
        "\n",
        "  # get number of log records \n",
        "  noOfLogRecords = df_new.shape[0]\n",
        "\n",
        "  return noOfLogRecords\n",
        "\n",
        "# 2) function to insert no of log records into database\n",
        "# systemCollection = mydb[\"system\"]\n",
        "# systemCollection.insert_one({\"no_of_logs\": noOfLogRecords})\n"
      ],
      "metadata": {
        "colab": {
          "base_uri": "https://localhost:8080/"
        },
        "id": "ItJk-56OGbzz",
        "outputId": "a67160c5-6e17-4eda-a0e0-1b21c5a55730"
      },
      "execution_count": null,
      "outputs": [
        {
          "output_type": "stream",
          "name": "stdout",
          "text": [
            "455237\n"
          ]
        }
      ]
    },
    {
      "cell_type": "code",
      "source": [
        "# function to extract user id\n",
        "# df['Description'][0].split()[4][1:-1]\n",
        "def extractUserId(desc):\n",
        "  return desc.split()[4][1:-1]\n",
        "\n",
        "# function to extract course module id for the two submission tables\n",
        "def extractCourseModuleId(desc):\n",
        "  return desc.split()[-1][1:-2]\n",
        "\n",
        "# function to extract action \n",
        "def extractAction(eventName):\n",
        "  return eventName.split()[-1][0:-1]\n",
        "\n",
        "df_submissions = df_new[(df_new['Event name'] == 'Submission form viewed.') | (df_new['Event name'] == 'Submission updated.') | (df_new['Event name'] == 'A submission has been submitted.') | (df_new['Event name'] == 'The status of the submission has been viewed.')]\n",
        "df_submissions.rename(columns={\"Event context\":\"Submission_name\", \"Time\":\"Date_time\"}, inplace=True)\n",
        "df_submissions['User_id'] = df_submissions['Description'].apply(extractUserId)\n",
        "df_submissions['Module_id'] = df_submissions['Description'].apply(extractCourseModuleId)\n",
        "df_submissions[\"Submission_id\"] = \"\"\n",
        "df_submissions['Action'] = df_submissions['Event name'].apply(extractAction)\n",
        "df_submissions = df_submissions[['User_id', 'Submission_name', 'Module_id', 'Date_time','Action', 'Submission_id']]\n",
        "df_submissions.head\n",
        "\n",
        "# df_new = df_new[df_new['Event name'] == 'Submission created.'] # filter the records with submission created\n",
        "# df_new.rename(columns={\"Event context\":\"Submission_name\", \"Time\":\"Date_time\"}, inplace=True)\n",
        "# df_new['User_id'] = df_new['Description'].apply(extractUserId)\n",
        "# df_new['Module_id'] = df_new['Description'].apply(extractCourseModuleId)\n",
        "# df_new[\"Submission_id\"] = \"\"\n",
        "# df_new = df_new[['User_id', 'Submission_name', 'Module_id', 'Date_time', 'Submission_id']]\n",
        "# df_new.head()\n",
        "\n",
        "# df_submissions['Event name']\n",
        "\n"
      ],
      "metadata": {
        "id": "QWmhb2y9Nnn-",
        "colab": {
          "base_uri": "https://localhost:8080/"
        },
        "outputId": "03c6dded-ef26-4c27-a90d-15eb817d7769"
      },
      "execution_count": 59,
      "outputs": [
        {
          "output_type": "stream",
          "name": "stderr",
          "text": [
            "/usr/local/lib/python3.7/dist-packages/pandas/core/frame.py:5047: SettingWithCopyWarning: \n",
            "A value is trying to be set on a copy of a slice from a DataFrame\n",
            "\n",
            "See the caveats in the documentation: https://pandas.pydata.org/pandas-docs/stable/user_guide/indexing.html#returning-a-view-versus-a-copy\n",
            "  errors=errors,\n",
            "/usr/local/lib/python3.7/dist-packages/ipykernel_launcher.py:16: SettingWithCopyWarning: \n",
            "A value is trying to be set on a copy of a slice from a DataFrame.\n",
            "Try using .loc[row_indexer,col_indexer] = value instead\n",
            "\n",
            "See the caveats in the documentation: https://pandas.pydata.org/pandas-docs/stable/user_guide/indexing.html#returning-a-view-versus-a-copy\n",
            "  app.launch_new_instance()\n",
            "/usr/local/lib/python3.7/dist-packages/ipykernel_launcher.py:17: SettingWithCopyWarning: \n",
            "A value is trying to be set on a copy of a slice from a DataFrame.\n",
            "Try using .loc[row_indexer,col_indexer] = value instead\n",
            "\n",
            "See the caveats in the documentation: https://pandas.pydata.org/pandas-docs/stable/user_guide/indexing.html#returning-a-view-versus-a-copy\n",
            "/usr/local/lib/python3.7/dist-packages/ipykernel_launcher.py:18: SettingWithCopyWarning: \n",
            "A value is trying to be set on a copy of a slice from a DataFrame.\n",
            "Try using .loc[row_indexer,col_indexer] = value instead\n",
            "\n",
            "See the caveats in the documentation: https://pandas.pydata.org/pandas-docs/stable/user_guide/indexing.html#returning-a-view-versus-a-copy\n",
            "/usr/local/lib/python3.7/dist-packages/ipykernel_launcher.py:19: SettingWithCopyWarning: \n",
            "A value is trying to be set on a copy of a slice from a DataFrame.\n",
            "Try using .loc[row_indexer,col_indexer] = value instead\n",
            "\n",
            "See the caveats in the documentation: https://pandas.pydata.org/pandas-docs/stable/user_guide/indexing.html#returning-a-view-versus-a-copy\n"
          ]
        },
        {
          "output_type": "execute_result",
          "data": {
            "text/plain": [
              "<bound method NDFrame.head of        User_id                                    Submission_name Module_id  \\\n",
              "35        3447                    Assignment: Lab 08 - Submission     43163   \n",
              "114       3566                    Assignment: Lab 08 - Submission     43163   \n",
              "257       3419                    Assignment: Lab 08 - Submission     43163   \n",
              "359       3428                    Assignment: Lab 08 - Submission     43163   \n",
              "364       3648                    Assignment: Lab 08 - Submission     43163   \n",
              "...        ...                                                ...       ...   \n",
              "408391    3681  Assignment: Lab 01 -Submission for Lab Exercis...     34044   \n",
              "408405    2613  Assignment: Lab 01 -Submission for Lab Exercis...     34044   \n",
              "426598    2613  Assignment: Lab 01 -Submission for Lab Exercis...     34045   \n",
              "426601    2613  Assignment: Lab 01 -Submission for Lab Exercis...     34045   \n",
              "426604    2613  Assignment: Lab 01 -Submission for Lab Exercis...     34044   \n",
              "\n",
              "              Date_time  Action Submission_id  \n",
              "35      27/02/22, 23:26  viewed                \n",
              "114     26/02/22, 03:04  viewed                \n",
              "257     20/02/22, 11:28  viewed                \n",
              "359     19/02/22, 22:16  viewed                \n",
              "364     19/02/22, 21:35  viewed                \n",
              "...                 ...     ...           ...  \n",
              "408391   1/07/21, 16:47  viewed                \n",
              "408405   1/07/21, 16:46  viewed                \n",
              "426598  23/06/21, 16:52  viewed                \n",
              "426601  23/06/21, 16:52  viewed                \n",
              "426604  23/06/21, 16:51  viewed                \n",
              "\n",
              "[32221 rows x 6 columns]>"
            ]
          },
          "metadata": {},
          "execution_count": 59
        }
      ]
    },
    {
      "cell_type": "code",
      "source": [
        "df_submissions.to_csv('Submissions.csv')"
      ],
      "metadata": {
        "id": "TKcJMoKzSwDQ"
      },
      "execution_count": 60,
      "outputs": []
    },
    {
      "cell_type": "code",
      "source": [
        "# creating the second submissions table\n",
        "\n"
      ],
      "metadata": {
        "id": "bp1Cwj3mZiHU"
      },
      "execution_count": null,
      "outputs": []
    }
  ]
}