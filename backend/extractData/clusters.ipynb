{
  "nbformat": 4,
  "nbformat_minor": 0,
  "metadata": {
    "colab": {
      "name": "Untitled1.ipynb",
      "provenance": [],
      "collapsed_sections": []
    },
    "kernelspec": {
      "name": "python3",
      "display_name": "Python 3"
    },
    "language_info": {
      "name": "python"
    }
  },
  "cells": [
    {
      "cell_type": "code",
      "execution_count": null,
      "metadata": {
        "id": "wC_8ToGe1VBV"
      },
      "outputs": [],
      "source": [
        "import pandas as pd"
      ]
    },
    {
      "cell_type": "code",
      "source": [
        "pd.options.mode.chained_assignment = None"
      ],
      "metadata": {
        "id": "s4F_ZHusN0_M"
      },
      "execution_count": null,
      "outputs": []
    },
    {
      "cell_type": "code",
      "source": [
        "import numpy as np"
      ],
      "metadata": {
        "id": "fCQeqjmd1iRN"
      },
      "execution_count": null,
      "outputs": []
    },
    {
      "cell_type": "code",
      "source": [
        "from google.colab import drive\n",
        "drive.mount(\"/drive\")"
      ],
      "metadata": {
        "colab": {
          "base_uri": "https://localhost:8080/"
        },
        "id": "XEizG2IylD66",
        "outputId": "8cfcbd5f-9850-4967-f6dc-d5b5b07b2137"
      },
      "execution_count": null,
      "outputs": [
        {
          "output_type": "stream",
          "name": "stdout",
          "text": [
            "Mounted at /drive\n"
          ]
        }
      ]
    },
    {
      "cell_type": "code",
      "source": [
        "df = pd.read_excel('/drive/My Drive/logs.xlsx')"
      ],
      "metadata": {
        "id": "DvRRu5XTB7ua"
      },
      "execution_count": null,
      "outputs": []
    },
    {
      "cell_type": "code",
      "source": [
        ""
      ],
      "metadata": {
        "id": "K_LZHBmm2eHQ"
      },
      "execution_count": null,
      "outputs": []
    },
    {
      "cell_type": "code",
      "source": [
        "def getNoOfLogRecords():\n",
        "\n",
        "  # get number of log records \n",
        "  noOfLogRecords = df.shape[0]\n",
        "\n",
        "  return noOfLogRecords\n",
        "getNoOfLogRecords()"
      ],
      "metadata": {
        "colab": {
          "base_uri": "https://localhost:8080/"
        },
        "id": "WpcM_J96DO5R",
        "outputId": "e7a72213-a144-4e62-c5d0-8c4b727b7018"
      },
      "execution_count": null,
      "outputs": [
        {
          "output_type": "execute_result",
          "data": {
            "text/plain": [
              "455237"
            ]
          },
          "metadata": {},
          "execution_count": 7
        }
      ]
    },
    {
      "cell_type": "code",
      "source": [
        "des = df[df['Description'].notnull()]"
      ],
      "metadata": {
        "id": "F0SIHk8mGYa7"
      },
      "execution_count": null,
      "outputs": []
    },
    {
      "cell_type": "code",
      "source": [
        "def userId(desc):\n",
        "    return desc.split()[4][1:-1]"
      ],
      "metadata": {
        "id": "EqMUgfPIMPLn"
      },
      "execution_count": null,
      "outputs": []
    },
    {
      "cell_type": "code",
      "source": [
        "des['user'] = des['Description'].apply(userId)\n"
      ],
      "metadata": {
        "id": "cTibMZIPMUNf"
      },
      "execution_count": null,
      "outputs": []
    },
    {
      "cell_type": "code",
      "source": [
        "file = df[df['Event context'].notnull()]\n",
        "\n",
        "def materials(file):\n",
        "  if file[0:4] == 'File':\n",
        "    return file\n",
        "\n",
        "#newfile = file['Event context'].apply(materials)\n",
        "i =0\n",
        "arr1 = set()\n",
        "while i<len(file):\n",
        "  newfile = materials(file['Event context'][i])\n",
        "  if newfile != None:\n",
        "    arr1.add(file['Event context'][i])\n",
        "  i = i+1\n",
        "arr1\n",
        "#file.iloc[0]\n"
      ],
      "metadata": {
        "id": "0gquqAkIVi9X",
        "colab": {
          "base_uri": "https://localhost:8080/"
        },
        "outputId": "ab67af4e-a491-4781-fda3-89d3ffe437e5"
      },
      "execution_count": null,
      "outputs": [
        {
          "output_type": "execute_result",
          "data": {
            "text/plain": [
              "{'File: Dataset 1',\n",
              " 'File: Dataset 2',\n",
              " 'File: GP106 - Revision Lab - AB',\n",
              " 'File: GP106 - Revision Lab - CD',\n",
              " 'File: GP106 Project Specification',\n",
              " 'File: Group List for Labs',\n",
              " 'File: Handout 10 Modules',\n",
              " 'File: Handout 11 : Documentation and Testing',\n",
              " 'File: Handout 12: Data Structures and Object Oriented Programming',\n",
              " 'File: Handout 14: Plotting Graphs using Matplotlib',\n",
              " 'File: Handout 1:  Introduction',\n",
              " 'File: Handout 2: Data Representation',\n",
              " 'File: Handout 3: Python Programming',\n",
              " 'File: Handout 5 - Flowcharts',\n",
              " 'File: Handout 6: Flowcharts II',\n",
              " 'File: Handout 7: Control Structures',\n",
              " 'File: Handout 8 - Functions',\n",
              " 'File: Handout 9: File Handling',\n",
              " 'File: Handout13 : Matrix Manipulation',\n",
              " 'File: Handout4 PythonProgramming2',\n",
              " 'File: Lab 01 - Introduction to Python - Lab Sheet/Tutorial',\n",
              " 'File: Lab 01 - Lab Exercise',\n",
              " 'File: Lab 02 - Conditions and Loops',\n",
              " 'File: Lab 03 - Exercises',\n",
              " 'File: Lab 03 - Functions, Modules and I/O - Lab Sheet',\n",
              " 'File: Lab 04 - Data Structures, Modules, Docs and Testing',\n",
              " 'File: Lab 04 - Exercises',\n",
              " 'File: Lab 05 - Exercises',\n",
              " 'File: Lab 05 - Numpy and Matplotlib',\n",
              " 'File: Lab 06 - Exercises',\n",
              " 'File: Lab 06 - Object Oriented Programming',\n",
              " 'File: Lab 07 - Introduction to Micro-Controllers',\n",
              " 'File: Lab 08 - Programming for Engineers',\n",
              " 'File: Whatsapp Links for Lab Groups'}"
            ]
          },
          "metadata": {},
          "execution_count": 10
        }
      ]
    },
    {
      "cell_type": "code",
      "source": [
        "# Event context--> 'Course: (different types)'\n",
        "course = df[df['Event context'].notnull()]\n",
        "\n",
        "def materials1(course):\n",
        "  if course[0:6] == 'Course':\n",
        "    return course\n",
        "\n",
        "#newfile = file['Event context'].apply(materials)\n",
        "i =0\n",
        "arr2 = set()\n",
        "while i<len(course):\n",
        "  newcourse = materials1(course['Event context'][i])\n",
        "  if newcourse != None:\n",
        "    arr2.add(course['Event name'][i])\n",
        "  i = i+1\n",
        "arr2"
      ],
      "metadata": {
        "colab": {
          "base_uri": "https://localhost:8080/"
        },
        "id": "HUbFOXdwIf62",
        "outputId": "46e62812-f69e-4fa6-abf9-d906492c2cd2"
      },
      "execution_count": null,
      "outputs": [
        {
          "output_type": "execute_result",
          "data": {
            "text/plain": [
              "{'Activity report viewed',\n",
              " 'Badge listing viewed',\n",
              " 'Calendar event created',\n",
              " 'Calendar event deleted',\n",
              " 'Calendar event updated',\n",
              " 'Course created',\n",
              " 'Course module instance list viewed',\n",
              " 'Course restored',\n",
              " 'Course searched',\n",
              " 'Course section created',\n",
              " 'Course section deleted',\n",
              " 'Course section updated',\n",
              " 'Course updated',\n",
              " 'Course user report viewed',\n",
              " 'Course viewed',\n",
              " 'Enrolment instance created',\n",
              " 'Grade deleted',\n",
              " 'Grade item created',\n",
              " 'Grade item deleted',\n",
              " 'Grade item updated',\n",
              " 'Grade overview report viewed',\n",
              " 'Grade single view report viewed.',\n",
              " 'Grade user report viewed',\n",
              " 'Grader report viewed',\n",
              " 'Item created',\n",
              " 'Item deleted',\n",
              " 'Log report viewed',\n",
              " 'Question category created',\n",
              " 'Question category viewed',\n",
              " 'Question created',\n",
              " 'Question deleted',\n",
              " 'Question moved',\n",
              " 'Question updated',\n",
              " 'Question viewed',\n",
              " 'Questions imported',\n",
              " 'Role assigned',\n",
              " 'Role unassigned',\n",
              " 'Step shown',\n",
              " 'Tour ended',\n",
              " 'Tour started',\n",
              " 'User enrolled in course',\n",
              " 'User graded',\n",
              " 'User list viewed',\n",
              " 'User profile viewed',\n",
              " 'User unenrolled from course'}"
            ]
          },
          "metadata": {},
          "execution_count": 6
        }
      ]
    },
    {
      "cell_type": "code",
      "source": [
        "#different Event context types\n",
        "lm = df[df['Event context'].notnull()]\n",
        "\n",
        "arrnew = set()\n",
        "i=0\n",
        "while i<len(lm):\n",
        "  category = lm['Event context'][i].split(\":\")[0]\n",
        "  arrnew.add(category)\n",
        "  i = i+1\n",
        "arrnew"
      ],
      "metadata": {
        "colab": {
          "base_uri": "https://localhost:8080/"
        },
        "id": "gyNVb91AJdb-",
        "outputId": "b554db78-7db9-4574-da16-f10c487aea38"
      },
      "execution_count": null,
      "outputs": [
        {
          "output_type": "execute_result",
          "data": {
            "text/plain": [
              "{'Assignment',\n",
              " 'Course',\n",
              " 'Feedback',\n",
              " 'File',\n",
              " 'Forum',\n",
              " 'Interactive Content',\n",
              " 'Label',\n",
              " 'Other',\n",
              " 'Page',\n",
              " 'Quiz',\n",
              " 'URL'}"
            ]
          },
          "metadata": {},
          "execution_count": 12
        }
      ]
    },
    {
      "cell_type": "code",
      "source": [
        "# Event context--> 'URL: (different types)'\n",
        "url = df[df['Event context'].notnull()]\n",
        "\n",
        "def materials2(url):\n",
        "  if url[0:3] == 'URL':\n",
        "    return url\n",
        "\n",
        "#newfile = file['Event context'].apply(materials)\n",
        "i =0\n",
        "arr3 = set()\n",
        "while i<len(url):\n",
        "  newurl = materials2(url['Event context'][i])\n",
        "  if newurl != None:\n",
        "    arr3.add(url['Event context'][i])\n",
        "  i = i+1\n",
        "arr3"
      ],
      "metadata": {
        "colab": {
          "base_uri": "https://localhost:8080/"
        },
        "id": "KykZ-BFhMNeW",
        "outputId": "8fcc0f03-7d14-4bab-bfa4-b2bdffe989eb"
      },
      "execution_count": null,
      "outputs": [
        {
          "output_type": "execute_result",
          "data": {
            "text/plain": [
              "{'URL: GP106 Group Project Discussion Slack Channel',\n",
              " 'URL: GP106 Project Groups',\n",
              " 'URL: GP106 Project Kits Collection Form',\n",
              " 'URL: Signal Group Link for \"GP106 - 2021 Official\"'}"
            ]
          },
          "metadata": {},
          "execution_count": 25
        }
      ]
    },
    {
      "cell_type": "code",
      "source": [
        "# Event context--> 'Interactive: (different types)'\n",
        "interactive = df[df['Event context'].notnull()]\n",
        "\n",
        "def materials3(interactive):\n",
        "  if interactive[0:19] == 'Interactive Content':\n",
        "    return interactive\n",
        "\n",
        "#newfile = file['Event context'].apply(materials)\n",
        "i =0\n",
        "arr4 = set()\n",
        "while i<len(interactive):\n",
        "  newinter = materials3(interactive['Event context'][i])\n",
        "  if newinter != None:\n",
        "    arr4.add(interactive['Event name'][i])\n",
        "  i = i+1\n",
        "arr4"
      ],
      "metadata": {
        "colab": {
          "base_uri": "https://localhost:8080/"
        },
        "id": "nvyJxcEdj9Lr",
        "outputId": "991b1526-8872-4e41-e2f1-127e612ac500"
      },
      "execution_count": null,
      "outputs": [
        {
          "output_type": "execute_result",
          "data": {
            "text/plain": [
              "{'Course activity completion updated',\n",
              " 'Course module created',\n",
              " 'Course module updated',\n",
              " 'Course module viewed',\n",
              " 'mod_hvp: attempt submitted'}"
            ]
          },
          "metadata": {},
          "execution_count": 12
        }
      ]
    },
    {
      "cell_type": "code",
      "source": [
        "# Event context--> 'Label: (different types)'\n",
        "label = df[df['Event context'].notnull()]\n",
        "\n",
        "def materials4(label):\n",
        "  if label[0:5] == 'Label':\n",
        "    return label\n",
        "\n",
        "#newfile = file['Event context'].apply(materials)\n",
        "i =0\n",
        "arr5 = set()\n",
        "while i<len(label):\n",
        "  newlabel = materials4(label['Event context'][i])\n",
        "  if newlabel != None:\n",
        "    arr5.add(label['Event context'][i])\n",
        "  i = i+1\n",
        "arr5"
      ],
      "metadata": {
        "colab": {
          "base_uri": "https://localhost:8080/"
        },
        "id": "lJ-NSLq3lh0h",
        "outputId": "ea1f8d8b-a8f8-489a-9282-91474f84a739"
      },
      "execution_count": null,
      "outputs": [
        {
          "output_type": "execute_result",
          "data": {
            "text/plain": [
              "{'Label: Exam Instructions (08/09/2021):\\nMid-semester exam...',\n",
              " 'Label: Feedback:',\n",
              " 'Label: GP106 Labs: (copy)',\n",
              " 'Label: GP106 Project\\n\\nInformation about the project wil...',\n",
              " 'Label: Lab Materials :',\n",
              " 'Label: Lecture 10: Modules, Documentation and Testing\\n\\n...',\n",
              " 'Label: Lecture 13: Data Structures and Object-Oriented Pr...',\n",
              " 'Label: Lecture 14: OOP and Vectors and Matrices\\nzoom_0.m...',\n",
              " 'Label: Lecture 15: Vectors and Matrices (Part II) and Plo...',\n",
              " 'Label: Lecture 16: Plotting (Part II)\\nzoom_0.mp4',\n",
              " 'Label: Lecture 17: Data Structures and OOP\\n\\n\\nzoom_0.mp...',\n",
              " 'Label: Lecture 17: GUI in Python\\nzoom_1.mp4',\n",
              " 'Label: Lecture 18: Vectors and Matrices - part I\\nzoom_0....',\n",
              " 'Label: Lecture 19: Vectors and Matrices part II\\nzoom_0.m...',\n",
              " 'Label: Lecture 1: Introduction and Data representation (p...',\n",
              " 'Label: Lecture 20: Vectors and Matrices part III\\nzoom_0....',\n",
              " 'Label: Lecture 21: Vectors and Matrices part IV\\n\\nout.mp...',\n",
              " 'Label: Lecture 22: Plotting 2D and 3D Graphs part I\\n\\nzo...',\n",
              " 'Label: Lecture 23: Plotting 2D and 3D Graphs part II\\n\\nz...',\n",
              " 'Label: Lecture 2: Data Representation (part II)\\nzoom_0.m...',\n",
              " 'Label: Lecture 3: Python Programming\\nzoom_0.mp4',\n",
              " 'Label: Lecture 4: Python Programming - Input/Output\\nzoom...',\n",
              " 'Label: Lecture 5: Operators and Flowcharts\\nzoom_0.mp4',\n",
              " 'Label: Lecture 6 : Flowcharts II\\nzoom_0.mp4',\n",
              " 'Label: Lecture 7: Control Structures in Python I\\nzoom_0....',\n",
              " 'Label: Lecture 8: Control Structures II, Jump Statements,...',\n",
              " 'Label: Lecture 9: Functions II, File Handling, Modules (i...',\n",
              " 'Label: Lecture Materials :',\n",
              " 'Label: Lecture Materials : (copy)',\n",
              " 'Label: Lecture Materials : (copy) (copy)',\n",
              " 'Label: Old Lectures',\n",
              " 'Label: Update (07/09/2021): The mock examination will be ...'}"
            ]
          },
          "metadata": {},
          "execution_count": 9
        }
      ]
    },
    {
      "cell_type": "code",
      "source": [
        "# Event context--> 'Page: (different types)'\n",
        "page = df[df['Event context'].notnull()]\n",
        "\n",
        "def materials5(page):\n",
        "  if page[0:4] == 'Page':\n",
        "    return page\n",
        "\n",
        "#newfile = file['Event context'].apply(materials)\n",
        "i =0\n",
        "arr6 = set()\n",
        "while i<len(page):\n",
        "  newpage = materials5(page['Event context'][i])\n",
        "  if newpage != None:\n",
        "    arr6.add(page['Event name'][i])\n",
        "  i = i+1\n",
        "arr6"
      ],
      "metadata": {
        "colab": {
          "base_uri": "https://localhost:8080/"
        },
        "id": "oQMs41I2r7kr",
        "outputId": "445fc108-3d43-4df3-8da0-519e49c2120c"
      },
      "execution_count": null,
      "outputs": [
        {
          "output_type": "execute_result",
          "data": {
            "text/plain": [
              "{'Course activity completion updated',\n",
              " 'Course module created',\n",
              " 'Course module updated',\n",
              " 'Course module viewed',\n",
              " 'Step shown',\n",
              " 'Tour ended',\n",
              " 'Tour started'}"
            ]
          },
          "metadata": {},
          "execution_count": 8
        }
      ]
    },
    {
      "cell_type": "markdown",
      "source": [
        ""
      ],
      "metadata": {
        "id": "Ios8GV9Yeq6z"
      }
    },
    {
      "cell_type": "code",
      "source": [
        "# Event context--> 'Other: (different types)'\n",
        "other = df[df['Event context'].notnull()]\n",
        "\n",
        "def materials6(other):\n",
        "  if other[0:5] == 'Other':\n",
        "    return other\n",
        "\n",
        "#newfile = file['Event context'].apply(materials)\n",
        "i =0\n",
        "arr7 = set()\n",
        "while i<len(other):\n",
        "  newother = materials6(other['Event context'][i])\n",
        "  if newother != None:\n",
        "    arr7.add(other['Event context'][i])\n",
        "  i = i+1\n",
        "arr7"
      ],
      "metadata": {
        "colab": {
          "base_uri": "https://localhost:8080/"
        },
        "id": "PT20hRJjuxGV",
        "outputId": "1185d40c-c65a-4d41-a48a-618bf69abb4f"
      },
      "execution_count": null,
      "outputs": [
        {
          "output_type": "execute_result",
          "data": {
            "text/plain": [
              "{'Other'}"
            ]
          },
          "metadata": {},
          "execution_count": 17
        }
      ]
    },
    {
      "cell_type": "code",
      "source": [
        "# Event context--> 'Assignment: (different types)'\n",
        "assignment = df[df['Event context'].notnull()]\n",
        "\n",
        "def materials7(assignment):\n",
        "  if assignment[0:10] == 'Assignment':\n",
        "    return assignment\n",
        "\n",
        "#newfile = file['Event context'].apply(materials)\n",
        "i =0\n",
        "arr8 = set()\n",
        "while i<len(assignment):\n",
        "  newassignment = materials7(assignment['Event context'][i])\n",
        "  if newassignment != None:\n",
        "    arr8.add(assignment['Event name'][i])\n",
        "  i = i+1\n",
        "arr8"
      ],
      "metadata": {
        "colab": {
          "base_uri": "https://localhost:8080/"
        },
        "id": "a5Op9LYbgR4u",
        "outputId": "92da02a9-8769-4030-cfa7-a669ed516a90"
      },
      "execution_count": null,
      "outputs": [
        {
          "output_type": "execute_result",
          "data": {
            "text/plain": [
              "{'A file has been uploaded.',\n",
              " 'A submission has been submitted.',\n",
              " 'All the submissions are being downloaded.',\n",
              " 'Comment created',\n",
              " 'Course activity completion updated',\n",
              " 'Course module created',\n",
              " 'Course module updated',\n",
              " 'Course module viewed',\n",
              " 'Grading table viewed',\n",
              " 'Remove submission confirmation viewed.',\n",
              " 'Step shown',\n",
              " 'Submission created.',\n",
              " 'Submission form viewed.',\n",
              " 'Submission updated.',\n",
              " 'The status of the submission has been updated.',\n",
              " 'The status of the submission has been viewed.',\n",
              " 'Tour ended',\n",
              " 'Tour started'}"
            ]
          },
          "metadata": {},
          "execution_count": 16
        }
      ]
    },
    {
      "cell_type": "code",
      "source": [
        "# Event context--> 'Quiz: (type)' with user id\n",
        "quiz = df[df['Event context'].notnull()]\n",
        "\n",
        "def materials8(quiz):\n",
        "  if quiz[0:4] == 'Quiz':\n",
        "    return quiz\n",
        "\n",
        "#newfile = file['Event context'].apply(materials)\n",
        "i =0\n",
        "arr9 = set()\n",
        "Dict = {}\n",
        "while i<len(quiz):\n",
        "  newquiz = materials8(quiz['Event context'][i])\n",
        "  if newquiz != None:\n",
        "    arr9.add(quiz['Event context'][i])\n",
        "  \n",
        "  i = i+1\n",
        "arr9\n",
        "#Dict\n",
        "#quiz['quiz_name'] = quiz['Event context'].apply(materials8)\n",
        "#quiz.head()"
      ],
      "metadata": {
        "colab": {
          "base_uri": "https://localhost:8080/"
        },
        "id": "QzBsFm1xgyvJ",
        "outputId": "240f84ce-9a2c-418d-bc7a-ad1710258848"
      },
      "execution_count": null,
      "outputs": [
        {
          "output_type": "execute_result",
          "data": {
            "text/plain": [
              "{'Quiz: Quiz 01 - Group AB, CD',\n",
              " 'Quiz: Quiz 01 - Group AB, CD (Attempt 2)',\n",
              " 'Quiz: Quiz 01 - Group AB, CD (Attempt 3)',\n",
              " 'Quiz: Quiz 01 - Group AB, CD (Attempt 4)',\n",
              " 'Quiz: Quiz 02 - Conditions and Loops',\n",
              " 'Quiz: Quiz 02 - Conditions and Loops (Attempt 2)',\n",
              " 'Quiz: Quiz 02 - Conditions and Loops (Attempt 3)',\n",
              " 'Quiz: Quiz 03 - Functions - (Attempt 3) - all groups',\n",
              " 'Quiz: Quiz 03 - Functions - AB',\n",
              " 'Quiz: Quiz 03 - Functions - AB (Attempt 2)',\n",
              " 'Quiz: Quiz 03 - Functions - CD',\n",
              " 'Quiz: Quiz 03 - Functions - CD (Attempt 2)',\n",
              " 'Quiz: Quiz 04 - Data Structures, Modules, Docs and Testing',\n",
              " 'Quiz: Quiz 04 - Data Structures, Modules, Docs and Testing (Attempt 2)',\n",
              " 'Quiz: Quiz 04 - Data Structures, Modules, Docs and Testing (Attempt 3)',\n",
              " 'Quiz: Quiz 04 - Data Structures, Modules, Docs and Testing (Attempt 4)',\n",
              " 'Quiz: Quiz 05 - Numpy and Matplotlib',\n",
              " 'Quiz: Quiz 05 - Numpy and Matplotlib (Attempt 2)',\n",
              " 'Quiz: Quiz 05 - Numpy and Matplotlib (Attempt 3)',\n",
              " 'Quiz: Quiz 06 - Object Oriented Programming',\n",
              " 'Quiz: Quiz 06 - Object Oriented Programming (Attempt 2)',\n",
              " 'Quiz: Quiz 06 - Object Oriented Programming (Attempt 3)',\n",
              " 'Quiz: Quiz 07',\n",
              " 'Quiz: Quiz 07 (Attempt 2)'}"
            ]
          },
          "metadata": {},
          "execution_count": 31
        }
      ]
    },
    {
      "cell_type": "code",
      "source": [
        "feedback = df[df['Event context'].notnull()]\n",
        "\n",
        "def materials10(feedback):\n",
        "  if feedback[0:8] == 'Feedback':\n",
        "    return feedback\n",
        "\n",
        "#newfile = file['Event context'].apply(materials)\n",
        "i =0\n",
        "arr11 = set()\n",
        "Dict = {}\n",
        "while i<len(feedback):\n",
        "  newfeedback = materials10(feedback['Event context'][i])\n",
        "  if newfeedback != None:\n",
        "    arr11.add(feedback['Event context'][i])\n",
        "  i = i+1\n",
        "arr11"
      ],
      "metadata": {
        "colab": {
          "base_uri": "https://localhost:8080/"
        },
        "id": "BRudtDTOZqIz",
        "outputId": "5cee598c-7035-4f33-a6d2-35962e060121"
      },
      "execution_count": null,
      "outputs": [
        {
          "output_type": "execute_result",
          "data": {
            "text/plain": [
              "{'Feedback: GP106 - End-Semester Feedback - Course',\n",
              " 'Feedback: GP106 - End-Semester Feedback - Lecturer',\n",
              " 'Feedback: GP106 - Mid-Semester Feedback - Course',\n",
              " 'Feedback: GP106 - Mid-Semester Feedback - Lecturer'}"
            ]
          },
          "metadata": {},
          "execution_count": 8
        }
      ]
    },
    {
      "cell_type": "code",
      "source": [
        "# Event context--> 'Quiz: (type)' with user id\n",
        "forum = df[df['Event context'].notnull()]\n",
        "\n",
        "def materials9(forum):\n",
        "  if forum[0:5] == 'Forum':\n",
        "    return forum\n",
        "\n",
        "#newfile = file['Event context'].apply(materials)\n",
        "i =0\n",
        "arr10 = set()\n",
        "while i<len(forum):\n",
        "  newforum = materials9(forum['Event context'][i])\n",
        "  if newforum != None:\n",
        "    arr10.add(forum['Event name'][i])\n",
        "  i = i+1\n",
        "arr10"
      ],
      "metadata": {
        "colab": {
          "base_uri": "https://localhost:8080/"
        },
        "id": "1glHPs9V3AJu",
        "outputId": "b32ddee8-78d6-4a7d-a68e-03edeaf1d3d8"
      },
      "execution_count": null,
      "outputs": [
        {
          "output_type": "execute_result",
          "data": {
            "text/plain": [
              "{'Course activity completion updated',\n",
              " 'Course module created',\n",
              " 'Course module updated',\n",
              " 'Course module viewed',\n",
              " 'Discussion created',\n",
              " 'Discussion moved',\n",
              " 'Discussion subscription created',\n",
              " 'Discussion subscription deleted',\n",
              " 'Discussion viewed',\n",
              " 'Post created',\n",
              " 'Post deleted',\n",
              " 'Post updated',\n",
              " 'Some content has been posted.',\n",
              " 'Step shown',\n",
              " 'Subscription created',\n",
              " 'Subscription deleted',\n",
              " 'Tour ended',\n",
              " 'Tour started'}"
            ]
          },
          "metadata": {},
          "execution_count": 12
        }
      ]
    },
    {
      "cell_type": "code",
      "source": [
        "def extractUserId(desc):\n",
        "  return desc.split()[4][1:-1]\n",
        "\n",
        "def extractCourseModuleId(desc):\n",
        "  return desc.split()[-1][1:-2]\n",
        "\n",
        "def extractAction(eventName):\n",
        "  return eventName.split()[-1][0:-1]+'d'\n",
        "\n",
        "def extractDate(date):\n",
        "  return date.split(',')[0]\n",
        "\n",
        "df_quiz = quiz[(quiz['Event name'] == 'Quiz attempt submitted') | (quiz['Event name'] == 'Quiz attempt started') | (quiz['Event name'] == 'Quiz attempt viewed')] \n",
        "df_quiz.rename(columns={\"Event context\":\"Quiz_name\"}, inplace=True)\n",
        "df_quiz['User_id'] = df_quiz['Description'].apply(extractUserId)\n",
        "df_quiz['Module_id'] = df_quiz['Description'].apply(extractCourseModuleId)\n",
        "df_quiz['Action'] = df_quiz['Event name'].apply(extractAction)\n",
        "df_quiz['Date'] = df_quiz['Time'].apply(extractDate)\n",
        "df_quiz = df_quiz[['User_id', 'Quiz_name', 'Module_id', 'Date','Action']]\n",
        "\n",
        "\n",
        "\n",
        "df_quiz.head()\n"
      ],
      "metadata": {
        "id": "kXpiM-aGIO66",
        "colab": {
          "base_uri": "https://localhost:8080/",
          "height": 206
        },
        "outputId": "a4826356-8bb7-48df-a454-f12dfd1487a6"
      },
      "execution_count": null,
      "outputs": [
        {
          "output_type": "execute_result",
          "data": {
            "text/plain": [
              "      User_id                                          Quiz_name Module_id  \\\n",
              "27761    3790  Quiz: Quiz 04 - Data Structures, Modules, Docs...     44906   \n",
              "29123    3526  Quiz: Quiz 06 - Object Oriented Programming (A...     44908   \n",
              "29127    3526  Quiz: Quiz 06 - Object Oriented Programming (A...     44908   \n",
              "29129    3526  Quiz: Quiz 06 - Object Oriented Programming (A...     44908   \n",
              "29130    3526  Quiz: Quiz 06 - Object Oriented Programming (A...     44908   \n",
              "\n",
              "           Date     Action  \n",
              "27761  12/10/21  submitted  \n",
              "29123   9/10/21  submitted  \n",
              "29127   9/10/21     viewed  \n",
              "29129   9/10/21     viewed  \n",
              "29130   9/10/21     viewed  "
            ],
            "text/html": [
              "\n",
              "  <div id=\"df-144cbebd-f478-43b7-aa58-62d9a22c5a20\">\n",
              "    <div class=\"colab-df-container\">\n",
              "      <div>\n",
              "<style scoped>\n",
              "    .dataframe tbody tr th:only-of-type {\n",
              "        vertical-align: middle;\n",
              "    }\n",
              "\n",
              "    .dataframe tbody tr th {\n",
              "        vertical-align: top;\n",
              "    }\n",
              "\n",
              "    .dataframe thead th {\n",
              "        text-align: right;\n",
              "    }\n",
              "</style>\n",
              "<table border=\"1\" class=\"dataframe\">\n",
              "  <thead>\n",
              "    <tr style=\"text-align: right;\">\n",
              "      <th></th>\n",
              "      <th>User_id</th>\n",
              "      <th>Quiz_name</th>\n",
              "      <th>Module_id</th>\n",
              "      <th>Date</th>\n",
              "      <th>Action</th>\n",
              "    </tr>\n",
              "  </thead>\n",
              "  <tbody>\n",
              "    <tr>\n",
              "      <th>27761</th>\n",
              "      <td>3790</td>\n",
              "      <td>Quiz: Quiz 04 - Data Structures, Modules, Docs...</td>\n",
              "      <td>44906</td>\n",
              "      <td>12/10/21</td>\n",
              "      <td>submitted</td>\n",
              "    </tr>\n",
              "    <tr>\n",
              "      <th>29123</th>\n",
              "      <td>3526</td>\n",
              "      <td>Quiz: Quiz 06 - Object Oriented Programming (A...</td>\n",
              "      <td>44908</td>\n",
              "      <td>9/10/21</td>\n",
              "      <td>submitted</td>\n",
              "    </tr>\n",
              "    <tr>\n",
              "      <th>29127</th>\n",
              "      <td>3526</td>\n",
              "      <td>Quiz: Quiz 06 - Object Oriented Programming (A...</td>\n",
              "      <td>44908</td>\n",
              "      <td>9/10/21</td>\n",
              "      <td>viewed</td>\n",
              "    </tr>\n",
              "    <tr>\n",
              "      <th>29129</th>\n",
              "      <td>3526</td>\n",
              "      <td>Quiz: Quiz 06 - Object Oriented Programming (A...</td>\n",
              "      <td>44908</td>\n",
              "      <td>9/10/21</td>\n",
              "      <td>viewed</td>\n",
              "    </tr>\n",
              "    <tr>\n",
              "      <th>29130</th>\n",
              "      <td>3526</td>\n",
              "      <td>Quiz: Quiz 06 - Object Oriented Programming (A...</td>\n",
              "      <td>44908</td>\n",
              "      <td>9/10/21</td>\n",
              "      <td>viewed</td>\n",
              "    </tr>\n",
              "  </tbody>\n",
              "</table>\n",
              "</div>\n",
              "      <button class=\"colab-df-convert\" onclick=\"convertToInteractive('df-144cbebd-f478-43b7-aa58-62d9a22c5a20')\"\n",
              "              title=\"Convert this dataframe to an interactive table.\"\n",
              "              style=\"display:none;\">\n",
              "        \n",
              "  <svg xmlns=\"http://www.w3.org/2000/svg\" height=\"24px\"viewBox=\"0 0 24 24\"\n",
              "       width=\"24px\">\n",
              "    <path d=\"M0 0h24v24H0V0z\" fill=\"none\"/>\n",
              "    <path d=\"M18.56 5.44l.94 2.06.94-2.06 2.06-.94-2.06-.94-.94-2.06-.94 2.06-2.06.94zm-11 1L8.5 8.5l.94-2.06 2.06-.94-2.06-.94L8.5 2.5l-.94 2.06-2.06.94zm10 10l.94 2.06.94-2.06 2.06-.94-2.06-.94-.94-2.06-.94 2.06-2.06.94z\"/><path d=\"M17.41 7.96l-1.37-1.37c-.4-.4-.92-.59-1.43-.59-.52 0-1.04.2-1.43.59L10.3 9.45l-7.72 7.72c-.78.78-.78 2.05 0 2.83L4 21.41c.39.39.9.59 1.41.59.51 0 1.02-.2 1.41-.59l7.78-7.78 2.81-2.81c.8-.78.8-2.07 0-2.86zM5.41 20L4 18.59l7.72-7.72 1.47 1.35L5.41 20z\"/>\n",
              "  </svg>\n",
              "      </button>\n",
              "      \n",
              "  <style>\n",
              "    .colab-df-container {\n",
              "      display:flex;\n",
              "      flex-wrap:wrap;\n",
              "      gap: 12px;\n",
              "    }\n",
              "\n",
              "    .colab-df-convert {\n",
              "      background-color: #E8F0FE;\n",
              "      border: none;\n",
              "      border-radius: 50%;\n",
              "      cursor: pointer;\n",
              "      display: none;\n",
              "      fill: #1967D2;\n",
              "      height: 32px;\n",
              "      padding: 0 0 0 0;\n",
              "      width: 32px;\n",
              "    }\n",
              "\n",
              "    .colab-df-convert:hover {\n",
              "      background-color: #E2EBFA;\n",
              "      box-shadow: 0px 1px 2px rgba(60, 64, 67, 0.3), 0px 1px 3px 1px rgba(60, 64, 67, 0.15);\n",
              "      fill: #174EA6;\n",
              "    }\n",
              "\n",
              "    [theme=dark] .colab-df-convert {\n",
              "      background-color: #3B4455;\n",
              "      fill: #D2E3FC;\n",
              "    }\n",
              "\n",
              "    [theme=dark] .colab-df-convert:hover {\n",
              "      background-color: #434B5C;\n",
              "      box-shadow: 0px 1px 3px 1px rgba(0, 0, 0, 0.15);\n",
              "      filter: drop-shadow(0px 1px 2px rgba(0, 0, 0, 0.3));\n",
              "      fill: #FFFFFF;\n",
              "    }\n",
              "  </style>\n",
              "\n",
              "      <script>\n",
              "        const buttonEl =\n",
              "          document.querySelector('#df-144cbebd-f478-43b7-aa58-62d9a22c5a20 button.colab-df-convert');\n",
              "        buttonEl.style.display =\n",
              "          google.colab.kernel.accessAllowed ? 'block' : 'none';\n",
              "\n",
              "        async function convertToInteractive(key) {\n",
              "          const element = document.querySelector('#df-144cbebd-f478-43b7-aa58-62d9a22c5a20');\n",
              "          const dataTable =\n",
              "            await google.colab.kernel.invokeFunction('convertToInteractive',\n",
              "                                                     [key], {});\n",
              "          if (!dataTable) return;\n",
              "\n",
              "          const docLinkHtml = 'Like what you see? Visit the ' +\n",
              "            '<a target=\"_blank\" href=https://colab.research.google.com/notebooks/data_table.ipynb>data table notebook</a>'\n",
              "            + ' to learn more about interactive tables.';\n",
              "          element.innerHTML = '';\n",
              "          dataTable['output_type'] = 'display_data';\n",
              "          await google.colab.output.renderOutput(dataTable, element);\n",
              "          const docLink = document.createElement('div');\n",
              "          docLink.innerHTML = docLinkHtml;\n",
              "          element.appendChild(docLink);\n",
              "        }\n",
              "      </script>\n",
              "    </div>\n",
              "  </div>\n",
              "  "
            ]
          },
          "metadata": {},
          "execution_count": 33
        }
      ]
    },
    {
      "cell_type": "code",
      "source": [
        "df_quiz.to_csv('Quiz.csv')"
      ],
      "metadata": {
        "id": "toIAdcG3dh-k"
      },
      "execution_count": null,
      "outputs": []
    },
    {
      "cell_type": "code",
      "source": [
        "from google.colab import files\n",
        "files.download(\"Quiz.csv\")"
      ],
      "metadata": {
        "colab": {
          "base_uri": "https://localhost:8080/",
          "height": 17
        },
        "id": "zgoOeZrsd6gU",
        "outputId": "84b2739b-e332-46e1-f386-65f1d901b65a"
      },
      "execution_count": null,
      "outputs": [
        {
          "output_type": "display_data",
          "data": {
            "text/plain": [
              "<IPython.core.display.Javascript object>"
            ],
            "application/javascript": [
              "\n",
              "    async function download(id, filename, size) {\n",
              "      if (!google.colab.kernel.accessAllowed) {\n",
              "        return;\n",
              "      }\n",
              "      const div = document.createElement('div');\n",
              "      const label = document.createElement('label');\n",
              "      label.textContent = `Downloading \"${filename}\": `;\n",
              "      div.appendChild(label);\n",
              "      const progress = document.createElement('progress');\n",
              "      progress.max = size;\n",
              "      div.appendChild(progress);\n",
              "      document.body.appendChild(div);\n",
              "\n",
              "      const buffers = [];\n",
              "      let downloaded = 0;\n",
              "\n",
              "      const channel = await google.colab.kernel.comms.open(id);\n",
              "      // Send a message to notify the kernel that we're ready.\n",
              "      channel.send({})\n",
              "\n",
              "      for await (const message of channel.messages) {\n",
              "        // Send a message to notify the kernel that we're ready.\n",
              "        channel.send({})\n",
              "        if (message.buffers) {\n",
              "          for (const buffer of message.buffers) {\n",
              "            buffers.push(buffer);\n",
              "            downloaded += buffer.byteLength;\n",
              "            progress.value = downloaded;\n",
              "          }\n",
              "        }\n",
              "      }\n",
              "      const blob = new Blob(buffers, {type: 'application/binary'});\n",
              "      const a = document.createElement('a');\n",
              "      a.href = window.URL.createObjectURL(blob);\n",
              "      a.download = filename;\n",
              "      div.appendChild(a);\n",
              "      a.click();\n",
              "      div.remove();\n",
              "    }\n",
              "  "
            ]
          },
          "metadata": {}
        },
        {
          "output_type": "display_data",
          "data": {
            "text/plain": [
              "<IPython.core.display.Javascript object>"
            ],
            "application/javascript": [
              "download(\"download_caa4a996-1f99-4e60-9637-51d1f96a09fd\", \"Quiz.csv\", 8050014)"
            ]
          },
          "metadata": {}
        }
      ]
    },
    {
      "cell_type": "code",
      "source": [
        "def extractCourseId(desc):\n",
        "  return desc.split()[-1][1:-2]\n",
        "df_system = df[(df['Event name'] == 'Course viewed')] \n",
        "df_system['Course_id'] = df_system['Description'].apply(extractCourseId)\n",
        "df_system = df_system[['Course_id']]\n",
        "df_system['Course_id'][1]"
      ],
      "metadata": {
        "colab": {
          "base_uri": "https://localhost:8080/",
          "height": 35
        },
        "id": "fX3qnIa1JCcT",
        "outputId": "255dfaee-8813-43c0-e01d-94ab265d2095"
      },
      "execution_count": null,
      "outputs": [
        {
          "output_type": "execute_result",
          "data": {
            "text/plain": [
              "'1214'"
            ],
            "application/vnd.google.colaboratory.intrinsic+json": {
              "type": "string"
            }
          },
          "metadata": {},
          "execution_count": 42
        }
      ]
    },
    {
      "cell_type": "code",
      "source": [
        "import csv\n",
        "header = ['No of log records','No of users','Course ID']\n",
        "data = [getNoOfLogRecords(),des['user'].nunique(),df_system['Course_id'][1]]\n",
        "\n",
        "with open('System.csv','w',encoding='UTF8') as f:\n",
        "  writer = csv.writer(f)\n",
        "  writer.writerow(header)\n",
        "  writer.writerow(data)"
      ],
      "metadata": {
        "id": "4dU2YqolzjdF"
      },
      "execution_count": null,
      "outputs": []
    },
    {
      "cell_type": "code",
      "source": [
        "from google.colab import files\n",
        "files.download(\"System.csv\")"
      ],
      "metadata": {
        "colab": {
          "base_uri": "https://localhost:8080/",
          "height": 17
        },
        "id": "Es5vxbp63R2t",
        "outputId": "af306563-dbb5-4124-fe7c-3913528bb584"
      },
      "execution_count": null,
      "outputs": [
        {
          "output_type": "display_data",
          "data": {
            "text/plain": [
              "<IPython.core.display.Javascript object>"
            ],
            "application/javascript": [
              "\n",
              "    async function download(id, filename, size) {\n",
              "      if (!google.colab.kernel.accessAllowed) {\n",
              "        return;\n",
              "      }\n",
              "      const div = document.createElement('div');\n",
              "      const label = document.createElement('label');\n",
              "      label.textContent = `Downloading \"${filename}\": `;\n",
              "      div.appendChild(label);\n",
              "      const progress = document.createElement('progress');\n",
              "      progress.max = size;\n",
              "      div.appendChild(progress);\n",
              "      document.body.appendChild(div);\n",
              "\n",
              "      const buffers = [];\n",
              "      let downloaded = 0;\n",
              "\n",
              "      const channel = await google.colab.kernel.comms.open(id);\n",
              "      // Send a message to notify the kernel that we're ready.\n",
              "      channel.send({})\n",
              "\n",
              "      for await (const message of channel.messages) {\n",
              "        // Send a message to notify the kernel that we're ready.\n",
              "        channel.send({})\n",
              "        if (message.buffers) {\n",
              "          for (const buffer of message.buffers) {\n",
              "            buffers.push(buffer);\n",
              "            downloaded += buffer.byteLength;\n",
              "            progress.value = downloaded;\n",
              "          }\n",
              "        }\n",
              "      }\n",
              "      const blob = new Blob(buffers, {type: 'application/binary'});\n",
              "      const a = document.createElement('a');\n",
              "      a.href = window.URL.createObjectURL(blob);\n",
              "      a.download = filename;\n",
              "      div.appendChild(a);\n",
              "      a.click();\n",
              "      div.remove();\n",
              "    }\n",
              "  "
            ]
          },
          "metadata": {}
        },
        {
          "output_type": "display_data",
          "data": {
            "text/plain": [
              "<IPython.core.display.Javascript object>"
            ],
            "application/javascript": [
              "download(\"download_0470449d-9838-43f9-b49b-8fe6d4eb2206\", \"System.csv\", 58)"
            ]
          },
          "metadata": {}
        }
      ]
    },
    {
      "cell_type": "code",
      "source": [
        "df_quiz = pd.read_csv('/drive/My Drive/Quiz.csv')"
      ],
      "metadata": {
        "id": "5sg2cMxPes89"
      },
      "execution_count": null,
      "outputs": []
    },
    {
      "cell_type": "code",
      "source": [
        "arr = []\n",
        "arr = df_quiz['Module_id'].unique()\n",
        "arr0 = df_quiz['Quiz_name'].unique()\n",
        "df_quiz['Date'][0]\n",
        "arr\n",
        "\n"
      ],
      "metadata": {
        "id": "LPNORP7sit1i",
        "colab": {
          "base_uri": "https://localhost:8080/"
        },
        "outputId": "341f7ce4-04c4-4a02-904b-52f6d2c2a08e"
      },
      "execution_count": null,
      "outputs": [
        {
          "output_type": "execute_result",
          "data": {
            "text/plain": [
              "array([44906, 44908, 44907, 44761, 44904, 44903, 44905, 44760, 43741,\n",
              "       43740, 43164, 43106, 42867, 42362, 42361, 41409, 41160, 39766,\n",
              "       39764, 37447, 36700, 35979, 35514, 34054])"
            ]
          },
          "metadata": {},
          "execution_count": 40
        }
      ]
    },
    {
      "cell_type": "code",
      "source": [
        "df_quiz_sum = df_quiz.groupby(['Module_id','Action']).size().reset_index().groupby(['Module_id','Action'])[[0]].max()\n",
        "df_quiz_sum.head()"
      ],
      "metadata": {
        "colab": {
          "base_uri": "https://localhost:8080/",
          "height": 238
        },
        "id": "gK1NUB9Ast9X",
        "outputId": "e3f544ee-91c4-489e-f341-bbdf44b3355b"
      },
      "execution_count": null,
      "outputs": [
        {
          "output_type": "execute_result",
          "data": {
            "text/plain": [
              "                         0\n",
              "Module_id Action          \n",
              "34054     started      479\n",
              "          submitted    479\n",
              "          viewed     11439\n",
              "35514     started      116\n",
              "          submitted    116"
            ],
            "text/html": [
              "\n",
              "  <div id=\"df-5a4e3eb3-e8df-42a8-861c-4d3b228203b8\">\n",
              "    <div class=\"colab-df-container\">\n",
              "      <div>\n",
              "<style scoped>\n",
              "    .dataframe tbody tr th:only-of-type {\n",
              "        vertical-align: middle;\n",
              "    }\n",
              "\n",
              "    .dataframe tbody tr th {\n",
              "        vertical-align: top;\n",
              "    }\n",
              "\n",
              "    .dataframe thead th {\n",
              "        text-align: right;\n",
              "    }\n",
              "</style>\n",
              "<table border=\"1\" class=\"dataframe\">\n",
              "  <thead>\n",
              "    <tr style=\"text-align: right;\">\n",
              "      <th></th>\n",
              "      <th></th>\n",
              "      <th>0</th>\n",
              "    </tr>\n",
              "    <tr>\n",
              "      <th>Module_id</th>\n",
              "      <th>Action</th>\n",
              "      <th></th>\n",
              "    </tr>\n",
              "  </thead>\n",
              "  <tbody>\n",
              "    <tr>\n",
              "      <th rowspan=\"3\" valign=\"top\">34054</th>\n",
              "      <th>started</th>\n",
              "      <td>479</td>\n",
              "    </tr>\n",
              "    <tr>\n",
              "      <th>submitted</th>\n",
              "      <td>479</td>\n",
              "    </tr>\n",
              "    <tr>\n",
              "      <th>viewed</th>\n",
              "      <td>11439</td>\n",
              "    </tr>\n",
              "    <tr>\n",
              "      <th rowspan=\"2\" valign=\"top\">35514</th>\n",
              "      <th>started</th>\n",
              "      <td>116</td>\n",
              "    </tr>\n",
              "    <tr>\n",
              "      <th>submitted</th>\n",
              "      <td>116</td>\n",
              "    </tr>\n",
              "  </tbody>\n",
              "</table>\n",
              "</div>\n",
              "      <button class=\"colab-df-convert\" onclick=\"convertToInteractive('df-5a4e3eb3-e8df-42a8-861c-4d3b228203b8')\"\n",
              "              title=\"Convert this dataframe to an interactive table.\"\n",
              "              style=\"display:none;\">\n",
              "        \n",
              "  <svg xmlns=\"http://www.w3.org/2000/svg\" height=\"24px\"viewBox=\"0 0 24 24\"\n",
              "       width=\"24px\">\n",
              "    <path d=\"M0 0h24v24H0V0z\" fill=\"none\"/>\n",
              "    <path d=\"M18.56 5.44l.94 2.06.94-2.06 2.06-.94-2.06-.94-.94-2.06-.94 2.06-2.06.94zm-11 1L8.5 8.5l.94-2.06 2.06-.94-2.06-.94L8.5 2.5l-.94 2.06-2.06.94zm10 10l.94 2.06.94-2.06 2.06-.94-2.06-.94-.94-2.06-.94 2.06-2.06.94z\"/><path d=\"M17.41 7.96l-1.37-1.37c-.4-.4-.92-.59-1.43-.59-.52 0-1.04.2-1.43.59L10.3 9.45l-7.72 7.72c-.78.78-.78 2.05 0 2.83L4 21.41c.39.39.9.59 1.41.59.51 0 1.02-.2 1.41-.59l7.78-7.78 2.81-2.81c.8-.78.8-2.07 0-2.86zM5.41 20L4 18.59l7.72-7.72 1.47 1.35L5.41 20z\"/>\n",
              "  </svg>\n",
              "      </button>\n",
              "      \n",
              "  <style>\n",
              "    .colab-df-container {\n",
              "      display:flex;\n",
              "      flex-wrap:wrap;\n",
              "      gap: 12px;\n",
              "    }\n",
              "\n",
              "    .colab-df-convert {\n",
              "      background-color: #E8F0FE;\n",
              "      border: none;\n",
              "      border-radius: 50%;\n",
              "      cursor: pointer;\n",
              "      display: none;\n",
              "      fill: #1967D2;\n",
              "      height: 32px;\n",
              "      padding: 0 0 0 0;\n",
              "      width: 32px;\n",
              "    }\n",
              "\n",
              "    .colab-df-convert:hover {\n",
              "      background-color: #E2EBFA;\n",
              "      box-shadow: 0px 1px 2px rgba(60, 64, 67, 0.3), 0px 1px 3px 1px rgba(60, 64, 67, 0.15);\n",
              "      fill: #174EA6;\n",
              "    }\n",
              "\n",
              "    [theme=dark] .colab-df-convert {\n",
              "      background-color: #3B4455;\n",
              "      fill: #D2E3FC;\n",
              "    }\n",
              "\n",
              "    [theme=dark] .colab-df-convert:hover {\n",
              "      background-color: #434B5C;\n",
              "      box-shadow: 0px 1px 3px 1px rgba(0, 0, 0, 0.15);\n",
              "      filter: drop-shadow(0px 1px 2px rgba(0, 0, 0, 0.3));\n",
              "      fill: #FFFFFF;\n",
              "    }\n",
              "  </style>\n",
              "\n",
              "      <script>\n",
              "        const buttonEl =\n",
              "          document.querySelector('#df-5a4e3eb3-e8df-42a8-861c-4d3b228203b8 button.colab-df-convert');\n",
              "        buttonEl.style.display =\n",
              "          google.colab.kernel.accessAllowed ? 'block' : 'none';\n",
              "\n",
              "        async function convertToInteractive(key) {\n",
              "          const element = document.querySelector('#df-5a4e3eb3-e8df-42a8-861c-4d3b228203b8');\n",
              "          const dataTable =\n",
              "            await google.colab.kernel.invokeFunction('convertToInteractive',\n",
              "                                                     [key], {});\n",
              "          if (!dataTable) return;\n",
              "\n",
              "          const docLinkHtml = 'Like what you see? Visit the ' +\n",
              "            '<a target=\"_blank\" href=https://colab.research.google.com/notebooks/data_table.ipynb>data table notebook</a>'\n",
              "            + ' to learn more about interactive tables.';\n",
              "          element.innerHTML = '';\n",
              "          dataTable['output_type'] = 'display_data';\n",
              "          await google.colab.output.renderOutput(dataTable, element);\n",
              "          const docLink = document.createElement('div');\n",
              "          docLink.innerHTML = docLinkHtml;\n",
              "          element.appendChild(docLink);\n",
              "        }\n",
              "      </script>\n",
              "    </div>\n",
              "  </div>\n",
              "  "
            ]
          },
          "metadata": {},
          "execution_count": 75
        }
      ]
    },
    {
      "cell_type": "code",
      "source": [
        "dict1 = {}\n",
        "arr2 = []\n",
        "arr3 = []\n",
        "arr4 = []\n",
        "def countSubmitted(moduleID):\n",
        "  df_quiz1 = df_quiz[df_quiz['Module_id'] == moduleID]\n",
        "  df_quiz2 = df_quiz1[df_quiz1['Action'] == 'submitted']\n",
        "  return df_quiz2['Action'].shape[0]\n",
        "def countViewed(moduleID):\n",
        "  df_quiz3 = df_quiz[df_quiz['Module_id'] == moduleID]\n",
        "  df_quiz4 = df_quiz3[df_quiz3['Action'] == 'viewed']\n",
        "  return df_quiz4['Action'].shape[0]\n",
        "def getDate(moduleID):\n",
        "  df_quiz5 = df_quiz[df_quiz['Module_id'] == moduleID]\n",
        "  quizDate = df_quiz5['Date'].unique()[0]\n",
        "  return quizDate\n",
        "for i in arr:\n",
        "  arr3.append(countViewed(i))\n",
        "  arr2.append(countSubmitted(i))\n",
        "  arr4.append(getDate(i))\n",
        "arr4\n",
        "\n",
        "\n",
        "\n"
      ],
      "metadata": {
        "id": "uQy-Afp8X0Kj",
        "colab": {
          "base_uri": "https://localhost:8080/"
        },
        "outputId": "1fe5e1af-bc67-4f4f-efc4-c2221824ecf4"
      },
      "execution_count": null,
      "outputs": [
        {
          "output_type": "execute_result",
          "data": {
            "text/plain": [
              "['12/10/21',\n",
              " '9/10/21',\n",
              " '9/10/21',\n",
              " '9/10/21',\n",
              " '9/10/21',\n",
              " '9/10/21',\n",
              " '9/10/21',\n",
              " '7/10/21',\n",
              " '26/09/21',\n",
              " '25/09/21',\n",
              " '19/09/21',\n",
              " '18/09/21',\n",
              " '15/09/21',\n",
              " '12/09/21',\n",
              " '11/09/21',\n",
              " '2/09/21',\n",
              " '31/08/21',\n",
              " '19/08/21',\n",
              " '17/08/21',\n",
              " '28/07/21',\n",
              " '27/07/21',\n",
              " '7/07/21',\n",
              " '4/07/21',\n",
              " '2/07/21']"
            ]
          },
          "metadata": {},
          "execution_count": 52
        }
      ]
    },
    {
      "cell_type": "code",
      "source": [
        "df_quiz5 = df_quiz[df_quiz['Module_id'] == 36700]\n",
        "df_quiz5['Date'].unique()[0]"
      ],
      "metadata": {
        "colab": {
          "base_uri": "https://localhost:8080/",
          "height": 35
        },
        "id": "hZu36gPfl82a",
        "outputId": "2d685b58-0f6c-4471-d281-4e5c23f616cf"
      },
      "execution_count": null,
      "outputs": [
        {
          "output_type": "execute_result",
          "data": {
            "text/plain": [
              "'27/07/21'"
            ],
            "application/vnd.google.colaboratory.intrinsic+json": {
              "type": "string"
            }
          },
          "metadata": {},
          "execution_count": 51
        }
      ]
    },
    {
      "cell_type": "code",
      "source": [
        "import csv\n",
        "\n",
        "a = np.array([arr2])\n",
        "b = np.array([arr])\n",
        "c = np.array([arr3])\n",
        "d = np.array([arr0])\n",
        "e = np.array([arr4])\n",
        "#data = [getNoOfLogRecords(),des['user'].nunique(),df_system['Course_id'][1]]\n",
        "\n",
        "with open('Quiz_sum.csv','w',encoding='UTF8') as f:\n",
        "  writer = csv.writer(f)\n",
        "  writer.writerows(b)\n",
        "  writer.writerows(d)\n",
        "  writer.writerows(a)\n",
        "  writer.writerows(c)\n",
        "  writer.writerows(e)\n",
        "\n",
        "df = pd.read_csv('Quiz_sum.csv')\n",
        "df = df.T\n",
        "df.to_csv('Quiz_sum.csv')\n"
      ],
      "metadata": {
        "id": "3qeKburagIf4"
      },
      "execution_count": null,
      "outputs": []
    },
    {
      "cell_type": "code",
      "source": [
        "from google.colab import files\n",
        "files.download(\"Quiz_sum.csv\")"
      ],
      "metadata": {
        "colab": {
          "base_uri": "https://localhost:8080/",
          "height": 17
        },
        "id": "w2zOUBQMg58Y",
        "outputId": "7e878140-ca03-4799-8271-8c9ef117cc1a"
      },
      "execution_count": null,
      "outputs": [
        {
          "output_type": "display_data",
          "data": {
            "text/plain": [
              "<IPython.core.display.Javascript object>"
            ],
            "application/javascript": [
              "\n",
              "    async function download(id, filename, size) {\n",
              "      if (!google.colab.kernel.accessAllowed) {\n",
              "        return;\n",
              "      }\n",
              "      const div = document.createElement('div');\n",
              "      const label = document.createElement('label');\n",
              "      label.textContent = `Downloading \"${filename}\": `;\n",
              "      div.appendChild(label);\n",
              "      const progress = document.createElement('progress');\n",
              "      progress.max = size;\n",
              "      div.appendChild(progress);\n",
              "      document.body.appendChild(div);\n",
              "\n",
              "      const buffers = [];\n",
              "      let downloaded = 0;\n",
              "\n",
              "      const channel = await google.colab.kernel.comms.open(id);\n",
              "      // Send a message to notify the kernel that we're ready.\n",
              "      channel.send({})\n",
              "\n",
              "      for await (const message of channel.messages) {\n",
              "        // Send a message to notify the kernel that we're ready.\n",
              "        channel.send({})\n",
              "        if (message.buffers) {\n",
              "          for (const buffer of message.buffers) {\n",
              "            buffers.push(buffer);\n",
              "            downloaded += buffer.byteLength;\n",
              "            progress.value = downloaded;\n",
              "          }\n",
              "        }\n",
              "      }\n",
              "      const blob = new Blob(buffers, {type: 'application/binary'});\n",
              "      const a = document.createElement('a');\n",
              "      a.href = window.URL.createObjectURL(blob);\n",
              "      a.download = filename;\n",
              "      div.appendChild(a);\n",
              "      a.click();\n",
              "      div.remove();\n",
              "    }\n",
              "  "
            ]
          },
          "metadata": {}
        },
        {
          "output_type": "display_data",
          "data": {
            "text/plain": [
              "<IPython.core.display.Javascript object>"
            ],
            "application/javascript": [
              "download(\"download_d3f619dd-9d43-447e-96c2-932460f61fb5\", \"Quiz_sum.csv\", 1667)"
            ]
          },
          "metadata": {}
        }
      ]
    },
    {
      "cell_type": "code",
      "source": [
        "import numpy as np\n",
        "import pandas as pd\n",
        "import re\n",
        "from google.colab import drive\n",
        "drive.mount(\"/drive\")"
      ],
      "metadata": {
        "colab": {
          "base_uri": "https://localhost:8080/"
        },
        "id": "7HVn_hoX2vGw",
        "outputId": "9d1e5179-6f45-4315-af55-e71679740764"
      },
      "execution_count": null,
      "outputs": [
        {
          "output_type": "stream",
          "name": "stdout",
          "text": [
            "Mounted at /drive\n"
          ]
        }
      ]
    },
    {
      "cell_type": "code",
      "source": [
        "df = pd.read_excel('/drive/My Drive/logs.xlsx')\n",
        "df_new = df[df['Description'].notnull()] # remove rows with empty description field\n",
        "df_new = df_new[df_new['Event context'].notnull()] # remove rows with empty event context field\n",
        "df_new = df_new[df_new['Event name'].notnull()] # remove rows with empty event name field\n",
        "df_new.head()"
      ],
      "metadata": {
        "colab": {
          "base_uri": "https://localhost:8080/",
          "height": 206
        },
        "id": "JXGOouMb2zFD",
        "outputId": "6d11a349-c8ed-4963-a8fe-ff920571c341"
      },
      "execution_count": null,
      "outputs": [
        {
          "output_type": "execute_result",
          "data": {
            "text/plain": [
              "              Time                   Event context Component  \\\n",
              "0  28/02/22, 10:56  Course: GP106-2021 : Computing      Logs   \n",
              "1  28/02/22, 10:56  Course: GP106-2021 : Computing    System   \n",
              "2  28/02/22, 10:04  Course: GP106-2021 : Computing    System   \n",
              "3  28/02/22, 09:23  Course: GP106-2021 : Computing    System   \n",
              "4  28/02/22, 09:23  Course: GP106-2021 : Computing    System   \n",
              "\n",
              "          Event name                                        Description Origin  \n",
              "0  Log report viewed  The user with id '2614' viewed the log report ...    web  \n",
              "1      Course viewed  The user with id '2614' viewed the course with...    web  \n",
              "2      Course viewed  The user with id '3740' viewed the course with...    web  \n",
              "3      Course viewed  The user with id '30' viewed the course with i...    web  \n",
              "4      Role assigned  The user with id '30' assigned the role with i...    web  "
            ],
            "text/html": [
              "\n",
              "  <div id=\"df-dba6df99-6def-47ea-a92b-22d0b487bd26\">\n",
              "    <div class=\"colab-df-container\">\n",
              "      <div>\n",
              "<style scoped>\n",
              "    .dataframe tbody tr th:only-of-type {\n",
              "        vertical-align: middle;\n",
              "    }\n",
              "\n",
              "    .dataframe tbody tr th {\n",
              "        vertical-align: top;\n",
              "    }\n",
              "\n",
              "    .dataframe thead th {\n",
              "        text-align: right;\n",
              "    }\n",
              "</style>\n",
              "<table border=\"1\" class=\"dataframe\">\n",
              "  <thead>\n",
              "    <tr style=\"text-align: right;\">\n",
              "      <th></th>\n",
              "      <th>Time</th>\n",
              "      <th>Event context</th>\n",
              "      <th>Component</th>\n",
              "      <th>Event name</th>\n",
              "      <th>Description</th>\n",
              "      <th>Origin</th>\n",
              "    </tr>\n",
              "  </thead>\n",
              "  <tbody>\n",
              "    <tr>\n",
              "      <th>0</th>\n",
              "      <td>28/02/22, 10:56</td>\n",
              "      <td>Course: GP106-2021 : Computing</td>\n",
              "      <td>Logs</td>\n",
              "      <td>Log report viewed</td>\n",
              "      <td>The user with id '2614' viewed the log report ...</td>\n",
              "      <td>web</td>\n",
              "    </tr>\n",
              "    <tr>\n",
              "      <th>1</th>\n",
              "      <td>28/02/22, 10:56</td>\n",
              "      <td>Course: GP106-2021 : Computing</td>\n",
              "      <td>System</td>\n",
              "      <td>Course viewed</td>\n",
              "      <td>The user with id '2614' viewed the course with...</td>\n",
              "      <td>web</td>\n",
              "    </tr>\n",
              "    <tr>\n",
              "      <th>2</th>\n",
              "      <td>28/02/22, 10:04</td>\n",
              "      <td>Course: GP106-2021 : Computing</td>\n",
              "      <td>System</td>\n",
              "      <td>Course viewed</td>\n",
              "      <td>The user with id '3740' viewed the course with...</td>\n",
              "      <td>web</td>\n",
              "    </tr>\n",
              "    <tr>\n",
              "      <th>3</th>\n",
              "      <td>28/02/22, 09:23</td>\n",
              "      <td>Course: GP106-2021 : Computing</td>\n",
              "      <td>System</td>\n",
              "      <td>Course viewed</td>\n",
              "      <td>The user with id '30' viewed the course with i...</td>\n",
              "      <td>web</td>\n",
              "    </tr>\n",
              "    <tr>\n",
              "      <th>4</th>\n",
              "      <td>28/02/22, 09:23</td>\n",
              "      <td>Course: GP106-2021 : Computing</td>\n",
              "      <td>System</td>\n",
              "      <td>Role assigned</td>\n",
              "      <td>The user with id '30' assigned the role with i...</td>\n",
              "      <td>web</td>\n",
              "    </tr>\n",
              "  </tbody>\n",
              "</table>\n",
              "</div>\n",
              "      <button class=\"colab-df-convert\" onclick=\"convertToInteractive('df-dba6df99-6def-47ea-a92b-22d0b487bd26')\"\n",
              "              title=\"Convert this dataframe to an interactive table.\"\n",
              "              style=\"display:none;\">\n",
              "        \n",
              "  <svg xmlns=\"http://www.w3.org/2000/svg\" height=\"24px\"viewBox=\"0 0 24 24\"\n",
              "       width=\"24px\">\n",
              "    <path d=\"M0 0h24v24H0V0z\" fill=\"none\"/>\n",
              "    <path d=\"M18.56 5.44l.94 2.06.94-2.06 2.06-.94-2.06-.94-.94-2.06-.94 2.06-2.06.94zm-11 1L8.5 8.5l.94-2.06 2.06-.94-2.06-.94L8.5 2.5l-.94 2.06-2.06.94zm10 10l.94 2.06.94-2.06 2.06-.94-2.06-.94-.94-2.06-.94 2.06-2.06.94z\"/><path d=\"M17.41 7.96l-1.37-1.37c-.4-.4-.92-.59-1.43-.59-.52 0-1.04.2-1.43.59L10.3 9.45l-7.72 7.72c-.78.78-.78 2.05 0 2.83L4 21.41c.39.39.9.59 1.41.59.51 0 1.02-.2 1.41-.59l7.78-7.78 2.81-2.81c.8-.78.8-2.07 0-2.86zM5.41 20L4 18.59l7.72-7.72 1.47 1.35L5.41 20z\"/>\n",
              "  </svg>\n",
              "      </button>\n",
              "      \n",
              "  <style>\n",
              "    .colab-df-container {\n",
              "      display:flex;\n",
              "      flex-wrap:wrap;\n",
              "      gap: 12px;\n",
              "    }\n",
              "\n",
              "    .colab-df-convert {\n",
              "      background-color: #E8F0FE;\n",
              "      border: none;\n",
              "      border-radius: 50%;\n",
              "      cursor: pointer;\n",
              "      display: none;\n",
              "      fill: #1967D2;\n",
              "      height: 32px;\n",
              "      padding: 0 0 0 0;\n",
              "      width: 32px;\n",
              "    }\n",
              "\n",
              "    .colab-df-convert:hover {\n",
              "      background-color: #E2EBFA;\n",
              "      box-shadow: 0px 1px 2px rgba(60, 64, 67, 0.3), 0px 1px 3px 1px rgba(60, 64, 67, 0.15);\n",
              "      fill: #174EA6;\n",
              "    }\n",
              "\n",
              "    [theme=dark] .colab-df-convert {\n",
              "      background-color: #3B4455;\n",
              "      fill: #D2E3FC;\n",
              "    }\n",
              "\n",
              "    [theme=dark] .colab-df-convert:hover {\n",
              "      background-color: #434B5C;\n",
              "      box-shadow: 0px 1px 3px 1px rgba(0, 0, 0, 0.15);\n",
              "      filter: drop-shadow(0px 1px 2px rgba(0, 0, 0, 0.3));\n",
              "      fill: #FFFFFF;\n",
              "    }\n",
              "  </style>\n",
              "\n",
              "      <script>\n",
              "        const buttonEl =\n",
              "          document.querySelector('#df-dba6df99-6def-47ea-a92b-22d0b487bd26 button.colab-df-convert');\n",
              "        buttonEl.style.display =\n",
              "          google.colab.kernel.accessAllowed ? 'block' : 'none';\n",
              "\n",
              "        async function convertToInteractive(key) {\n",
              "          const element = document.querySelector('#df-dba6df99-6def-47ea-a92b-22d0b487bd26');\n",
              "          const dataTable =\n",
              "            await google.colab.kernel.invokeFunction('convertToInteractive',\n",
              "                                                     [key], {});\n",
              "          if (!dataTable) return;\n",
              "\n",
              "          const docLinkHtml = 'Like what you see? Visit the ' +\n",
              "            '<a target=\"_blank\" href=https://colab.research.google.com/notebooks/data_table.ipynb>data table notebook</a>'\n",
              "            + ' to learn more about interactive tables.';\n",
              "          element.innerHTML = '';\n",
              "          dataTable['output_type'] = 'display_data';\n",
              "          await google.colab.output.renderOutput(dataTable, element);\n",
              "          const docLink = document.createElement('div');\n",
              "          docLink.innerHTML = docLinkHtml;\n",
              "          element.appendChild(docLink);\n",
              "        }\n",
              "      </script>\n",
              "    </div>\n",
              "  </div>\n",
              "  "
            ]
          },
          "metadata": {},
          "execution_count": 3
        }
      ]
    },
    {
      "cell_type": "code",
      "source": [
        "def userId(desc):\n",
        "    return desc.split()[4][1:-1]\n",
        "df_new['User_id'] = df_new['Description'].apply(userId)\n",
        "df_new.head()"
      ],
      "metadata": {
        "colab": {
          "base_uri": "https://localhost:8080/",
          "height": 206
        },
        "id": "9ELzhjZd25Oa",
        "outputId": "515f9cf2-6af1-4b4a-f76f-03828d5337bd"
      },
      "execution_count": null,
      "outputs": [
        {
          "output_type": "execute_result",
          "data": {
            "text/plain": [
              "              Time                   Event context Component  \\\n",
              "0  28/02/22, 10:56  Course: GP106-2021 : Computing      Logs   \n",
              "1  28/02/22, 10:56  Course: GP106-2021 : Computing    System   \n",
              "2  28/02/22, 10:04  Course: GP106-2021 : Computing    System   \n",
              "3  28/02/22, 09:23  Course: GP106-2021 : Computing    System   \n",
              "4  28/02/22, 09:23  Course: GP106-2021 : Computing    System   \n",
              "\n",
              "          Event name                                        Description  \\\n",
              "0  Log report viewed  The user with id '2614' viewed the log report ...   \n",
              "1      Course viewed  The user with id '2614' viewed the course with...   \n",
              "2      Course viewed  The user with id '3740' viewed the course with...   \n",
              "3      Course viewed  The user with id '30' viewed the course with i...   \n",
              "4      Role assigned  The user with id '30' assigned the role with i...   \n",
              "\n",
              "  Origin User_id  \n",
              "0    web    2614  \n",
              "1    web    2614  \n",
              "2    web    3740  \n",
              "3    web      30  \n",
              "4    web      30  "
            ],
            "text/html": [
              "\n",
              "  <div id=\"df-a6028df3-8fd1-4b50-a6ce-3aca0de83984\">\n",
              "    <div class=\"colab-df-container\">\n",
              "      <div>\n",
              "<style scoped>\n",
              "    .dataframe tbody tr th:only-of-type {\n",
              "        vertical-align: middle;\n",
              "    }\n",
              "\n",
              "    .dataframe tbody tr th {\n",
              "        vertical-align: top;\n",
              "    }\n",
              "\n",
              "    .dataframe thead th {\n",
              "        text-align: right;\n",
              "    }\n",
              "</style>\n",
              "<table border=\"1\" class=\"dataframe\">\n",
              "  <thead>\n",
              "    <tr style=\"text-align: right;\">\n",
              "      <th></th>\n",
              "      <th>Time</th>\n",
              "      <th>Event context</th>\n",
              "      <th>Component</th>\n",
              "      <th>Event name</th>\n",
              "      <th>Description</th>\n",
              "      <th>Origin</th>\n",
              "      <th>User_id</th>\n",
              "    </tr>\n",
              "  </thead>\n",
              "  <tbody>\n",
              "    <tr>\n",
              "      <th>0</th>\n",
              "      <td>28/02/22, 10:56</td>\n",
              "      <td>Course: GP106-2021 : Computing</td>\n",
              "      <td>Logs</td>\n",
              "      <td>Log report viewed</td>\n",
              "      <td>The user with id '2614' viewed the log report ...</td>\n",
              "      <td>web</td>\n",
              "      <td>2614</td>\n",
              "    </tr>\n",
              "    <tr>\n",
              "      <th>1</th>\n",
              "      <td>28/02/22, 10:56</td>\n",
              "      <td>Course: GP106-2021 : Computing</td>\n",
              "      <td>System</td>\n",
              "      <td>Course viewed</td>\n",
              "      <td>The user with id '2614' viewed the course with...</td>\n",
              "      <td>web</td>\n",
              "      <td>2614</td>\n",
              "    </tr>\n",
              "    <tr>\n",
              "      <th>2</th>\n",
              "      <td>28/02/22, 10:04</td>\n",
              "      <td>Course: GP106-2021 : Computing</td>\n",
              "      <td>System</td>\n",
              "      <td>Course viewed</td>\n",
              "      <td>The user with id '3740' viewed the course with...</td>\n",
              "      <td>web</td>\n",
              "      <td>3740</td>\n",
              "    </tr>\n",
              "    <tr>\n",
              "      <th>3</th>\n",
              "      <td>28/02/22, 09:23</td>\n",
              "      <td>Course: GP106-2021 : Computing</td>\n",
              "      <td>System</td>\n",
              "      <td>Course viewed</td>\n",
              "      <td>The user with id '30' viewed the course with i...</td>\n",
              "      <td>web</td>\n",
              "      <td>30</td>\n",
              "    </tr>\n",
              "    <tr>\n",
              "      <th>4</th>\n",
              "      <td>28/02/22, 09:23</td>\n",
              "      <td>Course: GP106-2021 : Computing</td>\n",
              "      <td>System</td>\n",
              "      <td>Role assigned</td>\n",
              "      <td>The user with id '30' assigned the role with i...</td>\n",
              "      <td>web</td>\n",
              "      <td>30</td>\n",
              "    </tr>\n",
              "  </tbody>\n",
              "</table>\n",
              "</div>\n",
              "      <button class=\"colab-df-convert\" onclick=\"convertToInteractive('df-a6028df3-8fd1-4b50-a6ce-3aca0de83984')\"\n",
              "              title=\"Convert this dataframe to an interactive table.\"\n",
              "              style=\"display:none;\">\n",
              "        \n",
              "  <svg xmlns=\"http://www.w3.org/2000/svg\" height=\"24px\"viewBox=\"0 0 24 24\"\n",
              "       width=\"24px\">\n",
              "    <path d=\"M0 0h24v24H0V0z\" fill=\"none\"/>\n",
              "    <path d=\"M18.56 5.44l.94 2.06.94-2.06 2.06-.94-2.06-.94-.94-2.06-.94 2.06-2.06.94zm-11 1L8.5 8.5l.94-2.06 2.06-.94-2.06-.94L8.5 2.5l-.94 2.06-2.06.94zm10 10l.94 2.06.94-2.06 2.06-.94-2.06-.94-.94-2.06-.94 2.06-2.06.94z\"/><path d=\"M17.41 7.96l-1.37-1.37c-.4-.4-.92-.59-1.43-.59-.52 0-1.04.2-1.43.59L10.3 9.45l-7.72 7.72c-.78.78-.78 2.05 0 2.83L4 21.41c.39.39.9.59 1.41.59.51 0 1.02-.2 1.41-.59l7.78-7.78 2.81-2.81c.8-.78.8-2.07 0-2.86zM5.41 20L4 18.59l7.72-7.72 1.47 1.35L5.41 20z\"/>\n",
              "  </svg>\n",
              "      </button>\n",
              "      \n",
              "  <style>\n",
              "    .colab-df-container {\n",
              "      display:flex;\n",
              "      flex-wrap:wrap;\n",
              "      gap: 12px;\n",
              "    }\n",
              "\n",
              "    .colab-df-convert {\n",
              "      background-color: #E8F0FE;\n",
              "      border: none;\n",
              "      border-radius: 50%;\n",
              "      cursor: pointer;\n",
              "      display: none;\n",
              "      fill: #1967D2;\n",
              "      height: 32px;\n",
              "      padding: 0 0 0 0;\n",
              "      width: 32px;\n",
              "    }\n",
              "\n",
              "    .colab-df-convert:hover {\n",
              "      background-color: #E2EBFA;\n",
              "      box-shadow: 0px 1px 2px rgba(60, 64, 67, 0.3), 0px 1px 3px 1px rgba(60, 64, 67, 0.15);\n",
              "      fill: #174EA6;\n",
              "    }\n",
              "\n",
              "    [theme=dark] .colab-df-convert {\n",
              "      background-color: #3B4455;\n",
              "      fill: #D2E3FC;\n",
              "    }\n",
              "\n",
              "    [theme=dark] .colab-df-convert:hover {\n",
              "      background-color: #434B5C;\n",
              "      box-shadow: 0px 1px 3px 1px rgba(0, 0, 0, 0.15);\n",
              "      filter: drop-shadow(0px 1px 2px rgba(0, 0, 0, 0.3));\n",
              "      fill: #FFFFFF;\n",
              "    }\n",
              "  </style>\n",
              "\n",
              "      <script>\n",
              "        const buttonEl =\n",
              "          document.querySelector('#df-a6028df3-8fd1-4b50-a6ce-3aca0de83984 button.colab-df-convert');\n",
              "        buttonEl.style.display =\n",
              "          google.colab.kernel.accessAllowed ? 'block' : 'none';\n",
              "\n",
              "        async function convertToInteractive(key) {\n",
              "          const element = document.querySelector('#df-a6028df3-8fd1-4b50-a6ce-3aca0de83984');\n",
              "          const dataTable =\n",
              "            await google.colab.kernel.invokeFunction('convertToInteractive',\n",
              "                                                     [key], {});\n",
              "          if (!dataTable) return;\n",
              "\n",
              "          const docLinkHtml = 'Like what you see? Visit the ' +\n",
              "            '<a target=\"_blank\" href=https://colab.research.google.com/notebooks/data_table.ipynb>data table notebook</a>'\n",
              "            + ' to learn more about interactive tables.';\n",
              "          element.innerHTML = '';\n",
              "          dataTable['output_type'] = 'display_data';\n",
              "          await google.colab.output.renderOutput(dataTable, element);\n",
              "          const docLink = document.createElement('div');\n",
              "          docLink.innerHTML = docLinkHtml;\n",
              "          element.appendChild(docLink);\n",
              "        }\n",
              "      </script>\n",
              "    </div>\n",
              "  </div>\n",
              "  "
            ]
          },
          "metadata": {},
          "execution_count": 4
        }
      ]
    },
    {
      "cell_type": "code",
      "source": [
        "# function to find the hit\n",
        "def extractHits(eventContext,eventName):\n",
        "  type = eventContext.split(\":\")[0]\n",
        "  if (type=='Course') | (type=='File') | (type=='Page') | (type=='URL'):\n",
        "    if (eventName == 'Course viewed') |(eventName == 'Course module viewed'):\n",
        "      return 'resource'    \n",
        "    else:\n",
        "      return \"other\"\n",
        "  elif (type=='Forum'):\n",
        "    if (eventName == 'Course module viewed') |  (eventName == 'Discussion viewed'):\n",
        "      return \"forum_view\"   \n",
        "    elif (eventName == 'Discussion created')|(eventName == 'Post created')|(eventName == 'Post updated')|(eventName == 'Some content has been posted'):\n",
        "      return \"forum_participation\"     \n",
        "    else:\n",
        "      return \"other\"\n",
        "  elif(type=='Assignment') | (type=='Quiz') | (type=='Interactive content'):\n",
        "    if(eventName == 'A submission has been submitted')|(eventName == 'Quiz attempt submitted')|(eventName == 'mod_hvp: attempt submitted'):\n",
        "      return \"assessment\"  \n",
        "    else:\n",
        "      return \"other\"\n",
        "  else:\n",
        "    return \"other\""
      ],
      "metadata": {
        "id": "bbuB8yfq3As7"
      },
      "execution_count": null,
      "outputs": []
    },
    {
      "cell_type": "code",
      "source": [
        "df_new['Hit'] = df_new.apply(lambda x:extractHits(x['Event context'],x['Event name']), axis=1)\n",
        "df_new.head()"
      ],
      "metadata": {
        "colab": {
          "base_uri": "https://localhost:8080/",
          "height": 206
        },
        "id": "c5jEVCga3FMt",
        "outputId": "2f961bd2-3d76-419c-b4c5-8c1cc72ab493"
      },
      "execution_count": null,
      "outputs": [
        {
          "output_type": "execute_result",
          "data": {
            "text/plain": [
              "              Time                   Event context Component  \\\n",
              "0  28/02/22, 10:56  Course: GP106-2021 : Computing      Logs   \n",
              "1  28/02/22, 10:56  Course: GP106-2021 : Computing    System   \n",
              "2  28/02/22, 10:04  Course: GP106-2021 : Computing    System   \n",
              "3  28/02/22, 09:23  Course: GP106-2021 : Computing    System   \n",
              "4  28/02/22, 09:23  Course: GP106-2021 : Computing    System   \n",
              "\n",
              "          Event name                                        Description  \\\n",
              "0  Log report viewed  The user with id '2614' viewed the log report ...   \n",
              "1      Course viewed  The user with id '2614' viewed the course with...   \n",
              "2      Course viewed  The user with id '3740' viewed the course with...   \n",
              "3      Course viewed  The user with id '30' viewed the course with i...   \n",
              "4      Role assigned  The user with id '30' assigned the role with i...   \n",
              "\n",
              "  Origin User_id       Hit  \n",
              "0    web    2614     other  \n",
              "1    web    2614  resource  \n",
              "2    web    3740  resource  \n",
              "3    web      30  resource  \n",
              "4    web      30     other  "
            ],
            "text/html": [
              "\n",
              "  <div id=\"df-dbcacac8-098a-48bc-a106-00ae326ddedf\">\n",
              "    <div class=\"colab-df-container\">\n",
              "      <div>\n",
              "<style scoped>\n",
              "    .dataframe tbody tr th:only-of-type {\n",
              "        vertical-align: middle;\n",
              "    }\n",
              "\n",
              "    .dataframe tbody tr th {\n",
              "        vertical-align: top;\n",
              "    }\n",
              "\n",
              "    .dataframe thead th {\n",
              "        text-align: right;\n",
              "    }\n",
              "</style>\n",
              "<table border=\"1\" class=\"dataframe\">\n",
              "  <thead>\n",
              "    <tr style=\"text-align: right;\">\n",
              "      <th></th>\n",
              "      <th>Time</th>\n",
              "      <th>Event context</th>\n",
              "      <th>Component</th>\n",
              "      <th>Event name</th>\n",
              "      <th>Description</th>\n",
              "      <th>Origin</th>\n",
              "      <th>User_id</th>\n",
              "      <th>Hit</th>\n",
              "    </tr>\n",
              "  </thead>\n",
              "  <tbody>\n",
              "    <tr>\n",
              "      <th>0</th>\n",
              "      <td>28/02/22, 10:56</td>\n",
              "      <td>Course: GP106-2021 : Computing</td>\n",
              "      <td>Logs</td>\n",
              "      <td>Log report viewed</td>\n",
              "      <td>The user with id '2614' viewed the log report ...</td>\n",
              "      <td>web</td>\n",
              "      <td>2614</td>\n",
              "      <td>other</td>\n",
              "    </tr>\n",
              "    <tr>\n",
              "      <th>1</th>\n",
              "      <td>28/02/22, 10:56</td>\n",
              "      <td>Course: GP106-2021 : Computing</td>\n",
              "      <td>System</td>\n",
              "      <td>Course viewed</td>\n",
              "      <td>The user with id '2614' viewed the course with...</td>\n",
              "      <td>web</td>\n",
              "      <td>2614</td>\n",
              "      <td>resource</td>\n",
              "    </tr>\n",
              "    <tr>\n",
              "      <th>2</th>\n",
              "      <td>28/02/22, 10:04</td>\n",
              "      <td>Course: GP106-2021 : Computing</td>\n",
              "      <td>System</td>\n",
              "      <td>Course viewed</td>\n",
              "      <td>The user with id '3740' viewed the course with...</td>\n",
              "      <td>web</td>\n",
              "      <td>3740</td>\n",
              "      <td>resource</td>\n",
              "    </tr>\n",
              "    <tr>\n",
              "      <th>3</th>\n",
              "      <td>28/02/22, 09:23</td>\n",
              "      <td>Course: GP106-2021 : Computing</td>\n",
              "      <td>System</td>\n",
              "      <td>Course viewed</td>\n",
              "      <td>The user with id '30' viewed the course with i...</td>\n",
              "      <td>web</td>\n",
              "      <td>30</td>\n",
              "      <td>resource</td>\n",
              "    </tr>\n",
              "    <tr>\n",
              "      <th>4</th>\n",
              "      <td>28/02/22, 09:23</td>\n",
              "      <td>Course: GP106-2021 : Computing</td>\n",
              "      <td>System</td>\n",
              "      <td>Role assigned</td>\n",
              "      <td>The user with id '30' assigned the role with i...</td>\n",
              "      <td>web</td>\n",
              "      <td>30</td>\n",
              "      <td>other</td>\n",
              "    </tr>\n",
              "  </tbody>\n",
              "</table>\n",
              "</div>\n",
              "      <button class=\"colab-df-convert\" onclick=\"convertToInteractive('df-dbcacac8-098a-48bc-a106-00ae326ddedf')\"\n",
              "              title=\"Convert this dataframe to an interactive table.\"\n",
              "              style=\"display:none;\">\n",
              "        \n",
              "  <svg xmlns=\"http://www.w3.org/2000/svg\" height=\"24px\"viewBox=\"0 0 24 24\"\n",
              "       width=\"24px\">\n",
              "    <path d=\"M0 0h24v24H0V0z\" fill=\"none\"/>\n",
              "    <path d=\"M18.56 5.44l.94 2.06.94-2.06 2.06-.94-2.06-.94-.94-2.06-.94 2.06-2.06.94zm-11 1L8.5 8.5l.94-2.06 2.06-.94-2.06-.94L8.5 2.5l-.94 2.06-2.06.94zm10 10l.94 2.06.94-2.06 2.06-.94-2.06-.94-.94-2.06-.94 2.06-2.06.94z\"/><path d=\"M17.41 7.96l-1.37-1.37c-.4-.4-.92-.59-1.43-.59-.52 0-1.04.2-1.43.59L10.3 9.45l-7.72 7.72c-.78.78-.78 2.05 0 2.83L4 21.41c.39.39.9.59 1.41.59.51 0 1.02-.2 1.41-.59l7.78-7.78 2.81-2.81c.8-.78.8-2.07 0-2.86zM5.41 20L4 18.59l7.72-7.72 1.47 1.35L5.41 20z\"/>\n",
              "  </svg>\n",
              "      </button>\n",
              "      \n",
              "  <style>\n",
              "    .colab-df-container {\n",
              "      display:flex;\n",
              "      flex-wrap:wrap;\n",
              "      gap: 12px;\n",
              "    }\n",
              "\n",
              "    .colab-df-convert {\n",
              "      background-color: #E8F0FE;\n",
              "      border: none;\n",
              "      border-radius: 50%;\n",
              "      cursor: pointer;\n",
              "      display: none;\n",
              "      fill: #1967D2;\n",
              "      height: 32px;\n",
              "      padding: 0 0 0 0;\n",
              "      width: 32px;\n",
              "    }\n",
              "\n",
              "    .colab-df-convert:hover {\n",
              "      background-color: #E2EBFA;\n",
              "      box-shadow: 0px 1px 2px rgba(60, 64, 67, 0.3), 0px 1px 3px 1px rgba(60, 64, 67, 0.15);\n",
              "      fill: #174EA6;\n",
              "    }\n",
              "\n",
              "    [theme=dark] .colab-df-convert {\n",
              "      background-color: #3B4455;\n",
              "      fill: #D2E3FC;\n",
              "    }\n",
              "\n",
              "    [theme=dark] .colab-df-convert:hover {\n",
              "      background-color: #434B5C;\n",
              "      box-shadow: 0px 1px 3px 1px rgba(0, 0, 0, 0.15);\n",
              "      filter: drop-shadow(0px 1px 2px rgba(0, 0, 0, 0.3));\n",
              "      fill: #FFFFFF;\n",
              "    }\n",
              "  </style>\n",
              "\n",
              "      <script>\n",
              "        const buttonEl =\n",
              "          document.querySelector('#df-dbcacac8-098a-48bc-a106-00ae326ddedf button.colab-df-convert');\n",
              "        buttonEl.style.display =\n",
              "          google.colab.kernel.accessAllowed ? 'block' : 'none';\n",
              "\n",
              "        async function convertToInteractive(key) {\n",
              "          const element = document.querySelector('#df-dbcacac8-098a-48bc-a106-00ae326ddedf');\n",
              "          const dataTable =\n",
              "            await google.colab.kernel.invokeFunction('convertToInteractive',\n",
              "                                                     [key], {});\n",
              "          if (!dataTable) return;\n",
              "\n",
              "          const docLinkHtml = 'Like what you see? Visit the ' +\n",
              "            '<a target=\"_blank\" href=https://colab.research.google.com/notebooks/data_table.ipynb>data table notebook</a>'\n",
              "            + ' to learn more about interactive tables.';\n",
              "          element.innerHTML = '';\n",
              "          dataTable['output_type'] = 'display_data';\n",
              "          await google.colab.output.renderOutput(dataTable, element);\n",
              "          const docLink = document.createElement('div');\n",
              "          docLink.innerHTML = docLinkHtml;\n",
              "          element.appendChild(docLink);\n",
              "        }\n",
              "      </script>\n",
              "    </div>\n",
              "  </div>\n",
              "  "
            ]
          },
          "metadata": {},
          "execution_count": 6
        }
      ]
    },
    {
      "cell_type": "code",
      "source": [
        "df_new = df_new[df_new.Hit != 'other']\n",
        "\n",
        "df_new.head()"
      ],
      "metadata": {
        "colab": {
          "base_uri": "https://localhost:8080/",
          "height": 206
        },
        "id": "RBg6M5C-3JXf",
        "outputId": "1402d573-c5e9-407a-9d5a-af069e545664"
      },
      "execution_count": null,
      "outputs": [
        {
          "output_type": "execute_result",
          "data": {
            "text/plain": [
              "              Time                   Event context Component     Event name  \\\n",
              "1  28/02/22, 10:56  Course: GP106-2021 : Computing    System  Course viewed   \n",
              "2  28/02/22, 10:04  Course: GP106-2021 : Computing    System  Course viewed   \n",
              "3  28/02/22, 09:23  Course: GP106-2021 : Computing    System  Course viewed   \n",
              "7  28/02/22, 09:22  Course: GP106-2021 : Computing    System  Course viewed   \n",
              "9  28/02/22, 09:20  Course: GP106-2021 : Computing    System  Course viewed   \n",
              "\n",
              "                                         Description Origin User_id       Hit  \n",
              "1  The user with id '2614' viewed the course with...    web    2614  resource  \n",
              "2  The user with id '3740' viewed the course with...    web    3740  resource  \n",
              "3  The user with id '30' viewed the course with i...    web      30  resource  \n",
              "7  The user with id '30' viewed the course with i...    web      30  resource  \n",
              "9  The user with id '30' viewed the course with i...    web      30  resource  "
            ],
            "text/html": [
              "\n",
              "  <div id=\"df-657ae269-7d7f-47aa-86a1-02c4c197b18a\">\n",
              "    <div class=\"colab-df-container\">\n",
              "      <div>\n",
              "<style scoped>\n",
              "    .dataframe tbody tr th:only-of-type {\n",
              "        vertical-align: middle;\n",
              "    }\n",
              "\n",
              "    .dataframe tbody tr th {\n",
              "        vertical-align: top;\n",
              "    }\n",
              "\n",
              "    .dataframe thead th {\n",
              "        text-align: right;\n",
              "    }\n",
              "</style>\n",
              "<table border=\"1\" class=\"dataframe\">\n",
              "  <thead>\n",
              "    <tr style=\"text-align: right;\">\n",
              "      <th></th>\n",
              "      <th>Time</th>\n",
              "      <th>Event context</th>\n",
              "      <th>Component</th>\n",
              "      <th>Event name</th>\n",
              "      <th>Description</th>\n",
              "      <th>Origin</th>\n",
              "      <th>User_id</th>\n",
              "      <th>Hit</th>\n",
              "    </tr>\n",
              "  </thead>\n",
              "  <tbody>\n",
              "    <tr>\n",
              "      <th>1</th>\n",
              "      <td>28/02/22, 10:56</td>\n",
              "      <td>Course: GP106-2021 : Computing</td>\n",
              "      <td>System</td>\n",
              "      <td>Course viewed</td>\n",
              "      <td>The user with id '2614' viewed the course with...</td>\n",
              "      <td>web</td>\n",
              "      <td>2614</td>\n",
              "      <td>resource</td>\n",
              "    </tr>\n",
              "    <tr>\n",
              "      <th>2</th>\n",
              "      <td>28/02/22, 10:04</td>\n",
              "      <td>Course: GP106-2021 : Computing</td>\n",
              "      <td>System</td>\n",
              "      <td>Course viewed</td>\n",
              "      <td>The user with id '3740' viewed the course with...</td>\n",
              "      <td>web</td>\n",
              "      <td>3740</td>\n",
              "      <td>resource</td>\n",
              "    </tr>\n",
              "    <tr>\n",
              "      <th>3</th>\n",
              "      <td>28/02/22, 09:23</td>\n",
              "      <td>Course: GP106-2021 : Computing</td>\n",
              "      <td>System</td>\n",
              "      <td>Course viewed</td>\n",
              "      <td>The user with id '30' viewed the course with i...</td>\n",
              "      <td>web</td>\n",
              "      <td>30</td>\n",
              "      <td>resource</td>\n",
              "    </tr>\n",
              "    <tr>\n",
              "      <th>7</th>\n",
              "      <td>28/02/22, 09:22</td>\n",
              "      <td>Course: GP106-2021 : Computing</td>\n",
              "      <td>System</td>\n",
              "      <td>Course viewed</td>\n",
              "      <td>The user with id '30' viewed the course with i...</td>\n",
              "      <td>web</td>\n",
              "      <td>30</td>\n",
              "      <td>resource</td>\n",
              "    </tr>\n",
              "    <tr>\n",
              "      <th>9</th>\n",
              "      <td>28/02/22, 09:20</td>\n",
              "      <td>Course: GP106-2021 : Computing</td>\n",
              "      <td>System</td>\n",
              "      <td>Course viewed</td>\n",
              "      <td>The user with id '30' viewed the course with i...</td>\n",
              "      <td>web</td>\n",
              "      <td>30</td>\n",
              "      <td>resource</td>\n",
              "    </tr>\n",
              "  </tbody>\n",
              "</table>\n",
              "</div>\n",
              "      <button class=\"colab-df-convert\" onclick=\"convertToInteractive('df-657ae269-7d7f-47aa-86a1-02c4c197b18a')\"\n",
              "              title=\"Convert this dataframe to an interactive table.\"\n",
              "              style=\"display:none;\">\n",
              "        \n",
              "  <svg xmlns=\"http://www.w3.org/2000/svg\" height=\"24px\"viewBox=\"0 0 24 24\"\n",
              "       width=\"24px\">\n",
              "    <path d=\"M0 0h24v24H0V0z\" fill=\"none\"/>\n",
              "    <path d=\"M18.56 5.44l.94 2.06.94-2.06 2.06-.94-2.06-.94-.94-2.06-.94 2.06-2.06.94zm-11 1L8.5 8.5l.94-2.06 2.06-.94-2.06-.94L8.5 2.5l-.94 2.06-2.06.94zm10 10l.94 2.06.94-2.06 2.06-.94-2.06-.94-.94-2.06-.94 2.06-2.06.94z\"/><path d=\"M17.41 7.96l-1.37-1.37c-.4-.4-.92-.59-1.43-.59-.52 0-1.04.2-1.43.59L10.3 9.45l-7.72 7.72c-.78.78-.78 2.05 0 2.83L4 21.41c.39.39.9.59 1.41.59.51 0 1.02-.2 1.41-.59l7.78-7.78 2.81-2.81c.8-.78.8-2.07 0-2.86zM5.41 20L4 18.59l7.72-7.72 1.47 1.35L5.41 20z\"/>\n",
              "  </svg>\n",
              "      </button>\n",
              "      \n",
              "  <style>\n",
              "    .colab-df-container {\n",
              "      display:flex;\n",
              "      flex-wrap:wrap;\n",
              "      gap: 12px;\n",
              "    }\n",
              "\n",
              "    .colab-df-convert {\n",
              "      background-color: #E8F0FE;\n",
              "      border: none;\n",
              "      border-radius: 50%;\n",
              "      cursor: pointer;\n",
              "      display: none;\n",
              "      fill: #1967D2;\n",
              "      height: 32px;\n",
              "      padding: 0 0 0 0;\n",
              "      width: 32px;\n",
              "    }\n",
              "\n",
              "    .colab-df-convert:hover {\n",
              "      background-color: #E2EBFA;\n",
              "      box-shadow: 0px 1px 2px rgba(60, 64, 67, 0.3), 0px 1px 3px 1px rgba(60, 64, 67, 0.15);\n",
              "      fill: #174EA6;\n",
              "    }\n",
              "\n",
              "    [theme=dark] .colab-df-convert {\n",
              "      background-color: #3B4455;\n",
              "      fill: #D2E3FC;\n",
              "    }\n",
              "\n",
              "    [theme=dark] .colab-df-convert:hover {\n",
              "      background-color: #434B5C;\n",
              "      box-shadow: 0px 1px 3px 1px rgba(0, 0, 0, 0.15);\n",
              "      filter: drop-shadow(0px 1px 2px rgba(0, 0, 0, 0.3));\n",
              "      fill: #FFFFFF;\n",
              "    }\n",
              "  </style>\n",
              "\n",
              "      <script>\n",
              "        const buttonEl =\n",
              "          document.querySelector('#df-657ae269-7d7f-47aa-86a1-02c4c197b18a button.colab-df-convert');\n",
              "        buttonEl.style.display =\n",
              "          google.colab.kernel.accessAllowed ? 'block' : 'none';\n",
              "\n",
              "        async function convertToInteractive(key) {\n",
              "          const element = document.querySelector('#df-657ae269-7d7f-47aa-86a1-02c4c197b18a');\n",
              "          const dataTable =\n",
              "            await google.colab.kernel.invokeFunction('convertToInteractive',\n",
              "                                                     [key], {});\n",
              "          if (!dataTable) return;\n",
              "\n",
              "          const docLinkHtml = 'Like what you see? Visit the ' +\n",
              "            '<a target=\"_blank\" href=https://colab.research.google.com/notebooks/data_table.ipynb>data table notebook</a>'\n",
              "            + ' to learn more about interactive tables.';\n",
              "          element.innerHTML = '';\n",
              "          dataTable['output_type'] = 'display_data';\n",
              "          await google.colab.output.renderOutput(dataTable, element);\n",
              "          const docLink = document.createElement('div');\n",
              "          docLink.innerHTML = docLinkHtml;\n",
              "          element.appendChild(docLink);\n",
              "        }\n",
              "      </script>\n",
              "    </div>\n",
              "  </div>\n",
              "  "
            ]
          },
          "metadata": {},
          "execution_count": 7
        }
      ]
    },
    {
      "cell_type": "code",
      "source": [
        "df_summary = df_new.groupby([\"User_id\",\"Hit\"])[\"User_id\"].count().reset_index(name=\"Count\")\n",
        "df_summary.head()"
      ],
      "metadata": {
        "colab": {
          "base_uri": "https://localhost:8080/",
          "height": 206
        },
        "id": "KCJR2YFy3KUy",
        "outputId": "1a22ea13-8687-4ecf-f365-1c9e1c5cf006"
      },
      "execution_count": null,
      "outputs": [
        {
          "output_type": "execute_result",
          "data": {
            "text/plain": [
              "  User_id                  Hit  Count\n",
              "0     124  forum_participation      1\n",
              "1     124           forum_view     13\n",
              "2     124             resource     14\n",
              "3    1661           assessment      2\n",
              "4    1661  forum_participation      1"
            ],
            "text/html": [
              "\n",
              "  <div id=\"df-ab629941-c827-4c2d-8443-b8b0a48d2aed\">\n",
              "    <div class=\"colab-df-container\">\n",
              "      <div>\n",
              "<style scoped>\n",
              "    .dataframe tbody tr th:only-of-type {\n",
              "        vertical-align: middle;\n",
              "    }\n",
              "\n",
              "    .dataframe tbody tr th {\n",
              "        vertical-align: top;\n",
              "    }\n",
              "\n",
              "    .dataframe thead th {\n",
              "        text-align: right;\n",
              "    }\n",
              "</style>\n",
              "<table border=\"1\" class=\"dataframe\">\n",
              "  <thead>\n",
              "    <tr style=\"text-align: right;\">\n",
              "      <th></th>\n",
              "      <th>User_id</th>\n",
              "      <th>Hit</th>\n",
              "      <th>Count</th>\n",
              "    </tr>\n",
              "  </thead>\n",
              "  <tbody>\n",
              "    <tr>\n",
              "      <th>0</th>\n",
              "      <td>124</td>\n",
              "      <td>forum_participation</td>\n",
              "      <td>1</td>\n",
              "    </tr>\n",
              "    <tr>\n",
              "      <th>1</th>\n",
              "      <td>124</td>\n",
              "      <td>forum_view</td>\n",
              "      <td>13</td>\n",
              "    </tr>\n",
              "    <tr>\n",
              "      <th>2</th>\n",
              "      <td>124</td>\n",
              "      <td>resource</td>\n",
              "      <td>14</td>\n",
              "    </tr>\n",
              "    <tr>\n",
              "      <th>3</th>\n",
              "      <td>1661</td>\n",
              "      <td>assessment</td>\n",
              "      <td>2</td>\n",
              "    </tr>\n",
              "    <tr>\n",
              "      <th>4</th>\n",
              "      <td>1661</td>\n",
              "      <td>forum_participation</td>\n",
              "      <td>1</td>\n",
              "    </tr>\n",
              "  </tbody>\n",
              "</table>\n",
              "</div>\n",
              "      <button class=\"colab-df-convert\" onclick=\"convertToInteractive('df-ab629941-c827-4c2d-8443-b8b0a48d2aed')\"\n",
              "              title=\"Convert this dataframe to an interactive table.\"\n",
              "              style=\"display:none;\">\n",
              "        \n",
              "  <svg xmlns=\"http://www.w3.org/2000/svg\" height=\"24px\"viewBox=\"0 0 24 24\"\n",
              "       width=\"24px\">\n",
              "    <path d=\"M0 0h24v24H0V0z\" fill=\"none\"/>\n",
              "    <path d=\"M18.56 5.44l.94 2.06.94-2.06 2.06-.94-2.06-.94-.94-2.06-.94 2.06-2.06.94zm-11 1L8.5 8.5l.94-2.06 2.06-.94-2.06-.94L8.5 2.5l-.94 2.06-2.06.94zm10 10l.94 2.06.94-2.06 2.06-.94-2.06-.94-.94-2.06-.94 2.06-2.06.94z\"/><path d=\"M17.41 7.96l-1.37-1.37c-.4-.4-.92-.59-1.43-.59-.52 0-1.04.2-1.43.59L10.3 9.45l-7.72 7.72c-.78.78-.78 2.05 0 2.83L4 21.41c.39.39.9.59 1.41.59.51 0 1.02-.2 1.41-.59l7.78-7.78 2.81-2.81c.8-.78.8-2.07 0-2.86zM5.41 20L4 18.59l7.72-7.72 1.47 1.35L5.41 20z\"/>\n",
              "  </svg>\n",
              "      </button>\n",
              "      \n",
              "  <style>\n",
              "    .colab-df-container {\n",
              "      display:flex;\n",
              "      flex-wrap:wrap;\n",
              "      gap: 12px;\n",
              "    }\n",
              "\n",
              "    .colab-df-convert {\n",
              "      background-color: #E8F0FE;\n",
              "      border: none;\n",
              "      border-radius: 50%;\n",
              "      cursor: pointer;\n",
              "      display: none;\n",
              "      fill: #1967D2;\n",
              "      height: 32px;\n",
              "      padding: 0 0 0 0;\n",
              "      width: 32px;\n",
              "    }\n",
              "\n",
              "    .colab-df-convert:hover {\n",
              "      background-color: #E2EBFA;\n",
              "      box-shadow: 0px 1px 2px rgba(60, 64, 67, 0.3), 0px 1px 3px 1px rgba(60, 64, 67, 0.15);\n",
              "      fill: #174EA6;\n",
              "    }\n",
              "\n",
              "    [theme=dark] .colab-df-convert {\n",
              "      background-color: #3B4455;\n",
              "      fill: #D2E3FC;\n",
              "    }\n",
              "\n",
              "    [theme=dark] .colab-df-convert:hover {\n",
              "      background-color: #434B5C;\n",
              "      box-shadow: 0px 1px 3px 1px rgba(0, 0, 0, 0.15);\n",
              "      filter: drop-shadow(0px 1px 2px rgba(0, 0, 0, 0.3));\n",
              "      fill: #FFFFFF;\n",
              "    }\n",
              "  </style>\n",
              "\n",
              "      <script>\n",
              "        const buttonEl =\n",
              "          document.querySelector('#df-ab629941-c827-4c2d-8443-b8b0a48d2aed button.colab-df-convert');\n",
              "        buttonEl.style.display =\n",
              "          google.colab.kernel.accessAllowed ? 'block' : 'none';\n",
              "\n",
              "        async function convertToInteractive(key) {\n",
              "          const element = document.querySelector('#df-ab629941-c827-4c2d-8443-b8b0a48d2aed');\n",
              "          const dataTable =\n",
              "            await google.colab.kernel.invokeFunction('convertToInteractive',\n",
              "                                                     [key], {});\n",
              "          if (!dataTable) return;\n",
              "\n",
              "          const docLinkHtml = 'Like what you see? Visit the ' +\n",
              "            '<a target=\"_blank\" href=https://colab.research.google.com/notebooks/data_table.ipynb>data table notebook</a>'\n",
              "            + ' to learn more about interactive tables.';\n",
              "          element.innerHTML = '';\n",
              "          dataTable['output_type'] = 'display_data';\n",
              "          await google.colab.output.renderOutput(dataTable, element);\n",
              "          const docLink = document.createElement('div');\n",
              "          docLink.innerHTML = docLinkHtml;\n",
              "          element.appendChild(docLink);\n",
              "        }\n",
              "      </script>\n",
              "    </div>\n",
              "  </div>\n",
              "  "
            ]
          },
          "metadata": {},
          "execution_count": 8
        }
      ]
    },
    {
      "cell_type": "code",
      "source": [
        "df_summary.to_csv(\"hits_summary.csv\")"
      ],
      "metadata": {
        "id": "AAU1FQ6J3UVW"
      },
      "execution_count": 33,
      "outputs": []
    },
    {
      "cell_type": "code",
      "source": [
        "from google.colab import files\n",
        "files.download(\"hits_summary.csv\")"
      ],
      "metadata": {
        "colab": {
          "base_uri": "https://localhost:8080/",
          "height": 17
        },
        "id": "1MWjw32-4iRd",
        "outputId": "0b4a96f0-ffee-48d2-f1ae-6d6ea0a9e1fa"
      },
      "execution_count": null,
      "outputs": [
        {
          "output_type": "display_data",
          "data": {
            "text/plain": [
              "<IPython.core.display.Javascript object>"
            ],
            "application/javascript": [
              "\n",
              "    async function download(id, filename, size) {\n",
              "      if (!google.colab.kernel.accessAllowed) {\n",
              "        return;\n",
              "      }\n",
              "      const div = document.createElement('div');\n",
              "      const label = document.createElement('label');\n",
              "      label.textContent = `Downloading \"${filename}\": `;\n",
              "      div.appendChild(label);\n",
              "      const progress = document.createElement('progress');\n",
              "      progress.max = size;\n",
              "      div.appendChild(progress);\n",
              "      document.body.appendChild(div);\n",
              "\n",
              "      const buffers = [];\n",
              "      let downloaded = 0;\n",
              "\n",
              "      const channel = await google.colab.kernel.comms.open(id);\n",
              "      // Send a message to notify the kernel that we're ready.\n",
              "      channel.send({})\n",
              "\n",
              "      for await (const message of channel.messages) {\n",
              "        // Send a message to notify the kernel that we're ready.\n",
              "        channel.send({})\n",
              "        if (message.buffers) {\n",
              "          for (const buffer of message.buffers) {\n",
              "            buffers.push(buffer);\n",
              "            downloaded += buffer.byteLength;\n",
              "            progress.value = downloaded;\n",
              "          }\n",
              "        }\n",
              "      }\n",
              "      const blob = new Blob(buffers, {type: 'application/binary'});\n",
              "      const a = document.createElement('a');\n",
              "      a.href = window.URL.createObjectURL(blob);\n",
              "      a.download = filename;\n",
              "      div.appendChild(a);\n",
              "      a.click();\n",
              "      div.remove();\n",
              "    }\n",
              "  "
            ]
          },
          "metadata": {}
        },
        {
          "output_type": "display_data",
          "data": {
            "text/plain": [
              "<IPython.core.display.Javascript object>"
            ],
            "application/javascript": [
              "download(\"download_13f23117-4d93-4f30-aec8-0bb9dced0b37\", \"hits_summary.csv\", 41127)"
            ]
          },
          "metadata": {}
        }
      ]
    },
    {
      "cell_type": "code",
      "source": [
        "df_hits = pd.read_csv('/drive/My Drive/hits_summary.csv')\n"
      ],
      "metadata": {
        "id": "exPmNHc45Mnp"
      },
      "execution_count": 34,
      "outputs": []
    },
    {
      "cell_type": "code",
      "source": [
        "#df_hits.head()\n",
        "arr0 = df_hits['User_id'].unique()\n",
        "arr0"
      ],
      "metadata": {
        "colab": {
          "base_uri": "https://localhost:8080/"
        },
        "id": "DPcY-AxS5WAQ",
        "outputId": "4af11e11-e883-40bc-e46c-d336b6529be6"
      },
      "execution_count": 37,
      "outputs": [
        {
          "output_type": "execute_result",
          "data": {
            "text/plain": [
              "array([ 124, 1661, 2155, 2613, 2614,   30, 3385, 3386, 3387, 3388, 3389,\n",
              "       3390, 3391, 3392, 3393, 3394, 3395, 3396, 3397, 3398, 3399, 3400,\n",
              "       3401, 3402, 3403, 3404, 3405, 3406, 3407, 3409, 3410, 3411, 3412,\n",
              "       3413, 3414, 3415, 3416, 3417, 3418, 3419, 3420, 3421, 3422, 3423,\n",
              "       3424, 3425, 3426, 3427, 3428, 3429, 3431, 3433, 3434, 3435, 3436,\n",
              "       3437, 3438, 3439, 3440, 3441, 3442, 3443, 3444, 3446, 3447, 3448,\n",
              "       3449, 3450, 3451, 3453, 3454, 3455, 3456, 3457, 3458, 3459, 3460,\n",
              "       3461, 3462, 3463, 3464, 3465, 3466, 3467, 3468, 3469, 3470, 3471,\n",
              "       3472, 3473, 3474, 3475, 3476, 3477, 3478, 3479, 3480, 3481, 3482,\n",
              "       3483, 3484, 3485, 3486, 3487, 3488, 3489, 3490, 3491, 3492, 3493,\n",
              "       3494, 3495, 3496, 3497, 3498, 3499, 3500, 3501, 3502, 3503, 3504,\n",
              "       3506, 3507, 3508, 3509, 3510, 3511, 3512, 3513, 3514, 3515, 3516,\n",
              "       3517, 3518, 3519, 3520, 3521, 3522, 3523, 3525, 3526, 3527, 3528,\n",
              "       3529, 3530, 3531, 3532, 3533, 3534, 3535, 3536, 3537, 3538, 3539,\n",
              "       3540, 3541, 3542, 3543, 3544, 3545, 3546, 3547, 3548, 3549, 3550,\n",
              "       3551, 3552, 3553, 3554, 3555, 3556, 3557, 3558, 3559, 3560, 3561,\n",
              "       3562, 3563, 3564, 3565, 3566, 3567, 3568, 3569, 3570, 3572, 3573,\n",
              "       3574, 3575, 3576, 3577, 3578, 3579, 3580, 3581, 3582, 3584, 3585,\n",
              "       3586, 3587, 3588, 3589, 3590, 3591, 3592, 3593, 3594, 3595, 3596,\n",
              "       3597, 3598, 3599, 3600, 3601, 3602, 3603, 3604, 3605, 3606, 3607,\n",
              "       3608, 3610, 3611, 3612, 3614, 3615, 3617, 3618, 3619, 3620, 3621,\n",
              "       3622, 3623, 3624, 3625, 3626, 3627, 3628, 3629, 3630, 3631, 3632,\n",
              "       3633, 3635, 3636, 3637, 3638, 3639, 3640, 3641, 3642, 3643, 3644,\n",
              "       3645, 3646, 3647, 3648, 3649, 3650, 3651, 3652, 3653, 3654, 3655,\n",
              "       3656, 3657, 3658, 3659, 3660, 3661, 3662, 3663, 3664, 3665, 3667,\n",
              "       3669, 3670, 3671, 3672, 3673, 3674, 3675, 3676, 3678, 3679, 3680,\n",
              "       3681, 3682, 3683, 3684, 3685, 3687, 3688, 3689, 3690, 3692, 3693,\n",
              "       3694, 3695, 3696, 3697, 3698, 3699, 3700, 3702, 3703, 3704, 3705,\n",
              "       3706, 3707, 3708, 3709, 3710, 3711, 3712, 3713, 3714, 3715, 3716,\n",
              "       3717, 3718, 3719, 3720, 3721, 3722, 3724, 3725, 3726, 3727, 3728,\n",
              "       3729, 3730, 3732, 3733, 3734, 3735, 3736, 3737, 3738, 3739, 3740,\n",
              "       3741, 3743, 3744, 3745, 3746, 3747, 3748, 3749, 3750, 3751, 3752,\n",
              "       3753, 3754, 3755, 3756, 3757, 3758, 3759, 3760, 3761, 3762, 3763,\n",
              "       3764, 3765, 3766, 3767, 3768, 3769, 3770, 3771, 3772, 3773, 3774,\n",
              "       3775, 3776, 3777, 3778, 3780, 3781, 3782, 3783, 3784, 3785, 3786,\n",
              "       3787, 3789, 3790, 3791, 3792, 3793, 3794, 3795, 3796, 3797, 3798,\n",
              "       3799, 3800, 3801, 3802, 3803, 3804, 3805, 3806, 3807, 3808, 3809,\n",
              "       3810, 3811, 3812, 3813, 3814, 3815, 3816, 3817, 3818, 3819, 3820,\n",
              "       3821, 3822, 3823, 3824, 3825, 3826, 3827, 3828, 3829, 3830, 3831,\n",
              "       3832, 3833, 3834, 3836, 3837, 3838, 3839, 3886, 3889, 3890, 3891,\n",
              "       3892, 3893, 3894, 3895, 3896, 3897, 3898, 3899, 3900, 3901, 3902,\n",
              "       3903, 3904, 3905, 3906, 3907, 3908, 3909, 3910, 3911, 3912, 3913,\n",
              "       3914, 3915, 3916, 3917, 3918, 3919, 3920, 3921, 3922, 3923, 3924,\n",
              "       3925, 3926, 3927, 3928, 3929, 3930, 3931, 3932, 3933, 3934, 3935,\n",
              "       3936, 3937, 3938, 4037, 4145,   54,    8,   94,  972])"
            ]
          },
          "metadata": {},
          "execution_count": 37
        }
      ]
    },
    {
      "cell_type": "code",
      "source": [
        "dict1 = {}\n",
        "dict2 = {}\n",
        "dict3 = {}\n",
        "dict4 = {}\n",
        "\n",
        "for i in range(0,len(df_hits)-1):\n",
        "  user = df_hits['User_id'][i]\n",
        "  user2 = df_hits['User_id'][i]\n",
        "  j=0\n",
        "  arr1 = []\n",
        "  while user == user2:\n",
        "    if df_hits['Hit'][i+j] == 'forum_participation':\n",
        "      dict1[df_hits['User_id'][i+j]] = df_hits['Count'][i+j]\n",
        "    if df_hits['Hit'][i+j] == 'forum_view':\n",
        "      dict2[df_hits['User_id'][i+j]] = df_hits['Count'][i+j]\n",
        "    if df_hits['Hit'][i+j] == 'assessment':\n",
        "      dict3[df_hits['User_id'][i+j]] = df_hits['Count'][i+j]\n",
        "    if df_hits['Hit'][i+j] == 'resource':\n",
        "      dict4[df_hits['User_id'][i+j]] = df_hits['Count'][i+j]\n",
        "    j= j+1\n",
        "    user2 = df_hits['User_id'][i+j]\n",
        "\n",
        "\n",
        "dict1[30]"
      ],
      "metadata": {
        "colab": {
          "base_uri": "https://localhost:8080/"
        },
        "id": "ZkR8kb-m5eQW",
        "outputId": "8a80aa47-b3f1-40a9-b23f-3982804f1796"
      },
      "execution_count": 38,
      "outputs": [
        {
          "output_type": "execute_result",
          "data": {
            "text/plain": [
              "1"
            ]
          },
          "metadata": {},
          "execution_count": 38
        }
      ]
    },
    {
      "cell_type": "code",
      "source": [
        "df_hits1 = pd.read_excel('/drive/My Drive/hits.xlsx')\n",
        "\n"
      ],
      "metadata": {
        "id": "DR4EbPKdOzNz"
      },
      "execution_count": 95,
      "outputs": []
    },
    {
      "cell_type": "code",
      "source": [
        "x = 0\n",
        "for i in arr0:\n",
        "  if i in dict1:\n",
        "    forum = dict1[i]\n",
        "  else:\n",
        "    forum = 0\n",
        "  if i in dict2:\n",
        "    view = dict2[i]\n",
        "  else:\n",
        "    view = 0\n",
        "  if i in dict3:\n",
        "    assessment = dict3[i]\n",
        "  else:\n",
        "    assessment = 0\n",
        "  if i in dict4:\n",
        "    resource = dict4[i]\n",
        "  else:\n",
        "    resource = 0\n",
        "  \n",
        "  new = {'User' : i, 'Forum' : forum, 'View' : view, 'Assessment': assessment, 'Resource': resource}\n",
        "  df_hits1 = df_hits1.append(new, ignore_index =True)\n",
        "\n",
        "  \n",
        "  \n",
        "df_hits1"
      ],
      "metadata": {
        "colab": {
          "base_uri": "https://localhost:8080/",
          "height": 424
        },
        "id": "EPkGU98WMh0x",
        "outputId": "69fc92c3-fd2e-42ed-8f4f-ade4fe1caa0a"
      },
      "execution_count": 96,
      "outputs": [
        {
          "output_type": "execute_result",
          "data": {
            "text/plain": [
              "     User Forum View Assessment Resource\n",
              "0     124     1   13          0       14\n",
              "1    1661     1    7          2      123\n",
              "2    2155     0   16         11      418\n",
              "3    2613     3   10          0      650\n",
              "4    2614     0    0          0        1\n",
              "..    ...   ...  ...        ...      ...\n",
              "488  4145     0    0          0        2\n",
              "489    54     5   27          0      162\n",
              "490     8     0    0          0        3\n",
              "491    94     0    0          0        6\n",
              "492   972     0    0          0        0\n",
              "\n",
              "[493 rows x 5 columns]"
            ],
            "text/html": [
              "\n",
              "  <div id=\"df-85a7da26-2176-4149-9a40-50d4e564d9bc\">\n",
              "    <div class=\"colab-df-container\">\n",
              "      <div>\n",
              "<style scoped>\n",
              "    .dataframe tbody tr th:only-of-type {\n",
              "        vertical-align: middle;\n",
              "    }\n",
              "\n",
              "    .dataframe tbody tr th {\n",
              "        vertical-align: top;\n",
              "    }\n",
              "\n",
              "    .dataframe thead th {\n",
              "        text-align: right;\n",
              "    }\n",
              "</style>\n",
              "<table border=\"1\" class=\"dataframe\">\n",
              "  <thead>\n",
              "    <tr style=\"text-align: right;\">\n",
              "      <th></th>\n",
              "      <th>User</th>\n",
              "      <th>Forum</th>\n",
              "      <th>View</th>\n",
              "      <th>Assessment</th>\n",
              "      <th>Resource</th>\n",
              "    </tr>\n",
              "  </thead>\n",
              "  <tbody>\n",
              "    <tr>\n",
              "      <th>0</th>\n",
              "      <td>124</td>\n",
              "      <td>1</td>\n",
              "      <td>13</td>\n",
              "      <td>0</td>\n",
              "      <td>14</td>\n",
              "    </tr>\n",
              "    <tr>\n",
              "      <th>1</th>\n",
              "      <td>1661</td>\n",
              "      <td>1</td>\n",
              "      <td>7</td>\n",
              "      <td>2</td>\n",
              "      <td>123</td>\n",
              "    </tr>\n",
              "    <tr>\n",
              "      <th>2</th>\n",
              "      <td>2155</td>\n",
              "      <td>0</td>\n",
              "      <td>16</td>\n",
              "      <td>11</td>\n",
              "      <td>418</td>\n",
              "    </tr>\n",
              "    <tr>\n",
              "      <th>3</th>\n",
              "      <td>2613</td>\n",
              "      <td>3</td>\n",
              "      <td>10</td>\n",
              "      <td>0</td>\n",
              "      <td>650</td>\n",
              "    </tr>\n",
              "    <tr>\n",
              "      <th>4</th>\n",
              "      <td>2614</td>\n",
              "      <td>0</td>\n",
              "      <td>0</td>\n",
              "      <td>0</td>\n",
              "      <td>1</td>\n",
              "    </tr>\n",
              "    <tr>\n",
              "      <th>...</th>\n",
              "      <td>...</td>\n",
              "      <td>...</td>\n",
              "      <td>...</td>\n",
              "      <td>...</td>\n",
              "      <td>...</td>\n",
              "    </tr>\n",
              "    <tr>\n",
              "      <th>488</th>\n",
              "      <td>4145</td>\n",
              "      <td>0</td>\n",
              "      <td>0</td>\n",
              "      <td>0</td>\n",
              "      <td>2</td>\n",
              "    </tr>\n",
              "    <tr>\n",
              "      <th>489</th>\n",
              "      <td>54</td>\n",
              "      <td>5</td>\n",
              "      <td>27</td>\n",
              "      <td>0</td>\n",
              "      <td>162</td>\n",
              "    </tr>\n",
              "    <tr>\n",
              "      <th>490</th>\n",
              "      <td>8</td>\n",
              "      <td>0</td>\n",
              "      <td>0</td>\n",
              "      <td>0</td>\n",
              "      <td>3</td>\n",
              "    </tr>\n",
              "    <tr>\n",
              "      <th>491</th>\n",
              "      <td>94</td>\n",
              "      <td>0</td>\n",
              "      <td>0</td>\n",
              "      <td>0</td>\n",
              "      <td>6</td>\n",
              "    </tr>\n",
              "    <tr>\n",
              "      <th>492</th>\n",
              "      <td>972</td>\n",
              "      <td>0</td>\n",
              "      <td>0</td>\n",
              "      <td>0</td>\n",
              "      <td>0</td>\n",
              "    </tr>\n",
              "  </tbody>\n",
              "</table>\n",
              "<p>493 rows × 5 columns</p>\n",
              "</div>\n",
              "      <button class=\"colab-df-convert\" onclick=\"convertToInteractive('df-85a7da26-2176-4149-9a40-50d4e564d9bc')\"\n",
              "              title=\"Convert this dataframe to an interactive table.\"\n",
              "              style=\"display:none;\">\n",
              "        \n",
              "  <svg xmlns=\"http://www.w3.org/2000/svg\" height=\"24px\"viewBox=\"0 0 24 24\"\n",
              "       width=\"24px\">\n",
              "    <path d=\"M0 0h24v24H0V0z\" fill=\"none\"/>\n",
              "    <path d=\"M18.56 5.44l.94 2.06.94-2.06 2.06-.94-2.06-.94-.94-2.06-.94 2.06-2.06.94zm-11 1L8.5 8.5l.94-2.06 2.06-.94-2.06-.94L8.5 2.5l-.94 2.06-2.06.94zm10 10l.94 2.06.94-2.06 2.06-.94-2.06-.94-.94-2.06-.94 2.06-2.06.94z\"/><path d=\"M17.41 7.96l-1.37-1.37c-.4-.4-.92-.59-1.43-.59-.52 0-1.04.2-1.43.59L10.3 9.45l-7.72 7.72c-.78.78-.78 2.05 0 2.83L4 21.41c.39.39.9.59 1.41.59.51 0 1.02-.2 1.41-.59l7.78-7.78 2.81-2.81c.8-.78.8-2.07 0-2.86zM5.41 20L4 18.59l7.72-7.72 1.47 1.35L5.41 20z\"/>\n",
              "  </svg>\n",
              "      </button>\n",
              "      \n",
              "  <style>\n",
              "    .colab-df-container {\n",
              "      display:flex;\n",
              "      flex-wrap:wrap;\n",
              "      gap: 12px;\n",
              "    }\n",
              "\n",
              "    .colab-df-convert {\n",
              "      background-color: #E8F0FE;\n",
              "      border: none;\n",
              "      border-radius: 50%;\n",
              "      cursor: pointer;\n",
              "      display: none;\n",
              "      fill: #1967D2;\n",
              "      height: 32px;\n",
              "      padding: 0 0 0 0;\n",
              "      width: 32px;\n",
              "    }\n",
              "\n",
              "    .colab-df-convert:hover {\n",
              "      background-color: #E2EBFA;\n",
              "      box-shadow: 0px 1px 2px rgba(60, 64, 67, 0.3), 0px 1px 3px 1px rgba(60, 64, 67, 0.15);\n",
              "      fill: #174EA6;\n",
              "    }\n",
              "\n",
              "    [theme=dark] .colab-df-convert {\n",
              "      background-color: #3B4455;\n",
              "      fill: #D2E3FC;\n",
              "    }\n",
              "\n",
              "    [theme=dark] .colab-df-convert:hover {\n",
              "      background-color: #434B5C;\n",
              "      box-shadow: 0px 1px 3px 1px rgba(0, 0, 0, 0.15);\n",
              "      filter: drop-shadow(0px 1px 2px rgba(0, 0, 0, 0.3));\n",
              "      fill: #FFFFFF;\n",
              "    }\n",
              "  </style>\n",
              "\n",
              "      <script>\n",
              "        const buttonEl =\n",
              "          document.querySelector('#df-85a7da26-2176-4149-9a40-50d4e564d9bc button.colab-df-convert');\n",
              "        buttonEl.style.display =\n",
              "          google.colab.kernel.accessAllowed ? 'block' : 'none';\n",
              "\n",
              "        async function convertToInteractive(key) {\n",
              "          const element = document.querySelector('#df-85a7da26-2176-4149-9a40-50d4e564d9bc');\n",
              "          const dataTable =\n",
              "            await google.colab.kernel.invokeFunction('convertToInteractive',\n",
              "                                                     [key], {});\n",
              "          if (!dataTable) return;\n",
              "\n",
              "          const docLinkHtml = 'Like what you see? Visit the ' +\n",
              "            '<a target=\"_blank\" href=https://colab.research.google.com/notebooks/data_table.ipynb>data table notebook</a>'\n",
              "            + ' to learn more about interactive tables.';\n",
              "          element.innerHTML = '';\n",
              "          dataTable['output_type'] = 'display_data';\n",
              "          await google.colab.output.renderOutput(dataTable, element);\n",
              "          const docLink = document.createElement('div');\n",
              "          docLink.innerHTML = docLinkHtml;\n",
              "          element.appendChild(docLink);\n",
              "        }\n",
              "      </script>\n",
              "    </div>\n",
              "  </div>\n",
              "  "
            ]
          },
          "metadata": {},
          "execution_count": 96
        }
      ]
    },
    {
      "cell_type": "code",
      "source": [
        "df_hits1.to_csv('Clusturing.csv')"
      ],
      "metadata": {
        "id": "8HlTggo4n5Te"
      },
      "execution_count": 97,
      "outputs": []
    },
    {
      "cell_type": "code",
      "source": [
        "from google.colab import files\n",
        "files.download(\"Clusturing.csv\")"
      ],
      "metadata": {
        "colab": {
          "base_uri": "https://localhost:8080/",
          "height": 17
        },
        "id": "qkbGWXuBoG9_",
        "outputId": "c81bf116-9f3e-42b5-cbbf-489efb383898"
      },
      "execution_count": 98,
      "outputs": [
        {
          "output_type": "display_data",
          "data": {
            "text/plain": [
              "<IPython.core.display.Javascript object>"
            ],
            "application/javascript": [
              "\n",
              "    async function download(id, filename, size) {\n",
              "      if (!google.colab.kernel.accessAllowed) {\n",
              "        return;\n",
              "      }\n",
              "      const div = document.createElement('div');\n",
              "      const label = document.createElement('label');\n",
              "      label.textContent = `Downloading \"${filename}\": `;\n",
              "      div.appendChild(label);\n",
              "      const progress = document.createElement('progress');\n",
              "      progress.max = size;\n",
              "      div.appendChild(progress);\n",
              "      document.body.appendChild(div);\n",
              "\n",
              "      const buffers = [];\n",
              "      let downloaded = 0;\n",
              "\n",
              "      const channel = await google.colab.kernel.comms.open(id);\n",
              "      // Send a message to notify the kernel that we're ready.\n",
              "      channel.send({})\n",
              "\n",
              "      for await (const message of channel.messages) {\n",
              "        // Send a message to notify the kernel that we're ready.\n",
              "        channel.send({})\n",
              "        if (message.buffers) {\n",
              "          for (const buffer of message.buffers) {\n",
              "            buffers.push(buffer);\n",
              "            downloaded += buffer.byteLength;\n",
              "            progress.value = downloaded;\n",
              "          }\n",
              "        }\n",
              "      }\n",
              "      const blob = new Blob(buffers, {type: 'application/binary'});\n",
              "      const a = document.createElement('a');\n",
              "      a.href = window.URL.createObjectURL(blob);\n",
              "      a.download = filename;\n",
              "      div.appendChild(a);\n",
              "      a.click();\n",
              "      div.remove();\n",
              "    }\n",
              "  "
            ]
          },
          "metadata": {}
        },
        {
          "output_type": "display_data",
          "data": {
            "text/plain": [
              "<IPython.core.display.Javascript object>"
            ],
            "application/javascript": [
              "download(\"download_d4c66133-1152-4b97-bae7-b2c488319f24\", \"Clusturing.csv\", 9726)"
            ]
          },
          "metadata": {}
        }
      ]
    }
  ]
}